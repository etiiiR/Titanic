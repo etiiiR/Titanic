{
  "nbformat": 4,
  "nbformat_minor": 2,
  "metadata": {
    "colab": {
      "name": "Titanic.ipynb",
      "provenance": [],
      "collapsed_sections": [],
      "history_visible": true,
      "include_colab_link": true
    },
    "kernelspec": {
      "name": "python3",
      "display_name": "Python 3.9.6 64-bit"
    },
    "language_info": {
      "name": "python",
      "version": "3.9.6",
      "mimetype": "text/x-python",
      "codemirror_mode": {
        "name": "ipython",
        "version": 3
      },
      "pygments_lexer": "ipython3",
      "nbconvert_exporter": "python",
      "file_extension": ".py"
    },
    "interpreter": {
      "hash": "63fd5069d213b44bf678585dea6b12cceca9941eaf7f819626cde1f2670de90d"
    }
  },
  "cells": [
    {
      "cell_type": "markdown",
      "source": [
        "<a href=\"https://colab.research.google.com/github/etiiiR/Titanic/blob/main/Titanic.ipynb\" target=\"_parent\"><img src=\"https://colab.research.google.com/assets/colab-badge.svg\" alt=\"Open In Colab\"/></a>"
      ],
      "metadata": {
        "id": "view-in-github",
        "colab_type": "text"
      }
    },
    {
      "cell_type": "code",
      "execution_count": 1,
      "source": [
        "!pip install pandas"
      ],
      "outputs": [
        {
          "output_type": "stream",
          "name": "stdout",
          "text": [
            "Requirement already satisfied: pandas in c:\\python39\\lib\\site-packages (1.3.3)\n",
            "Requirement already satisfied: pytz>=2017.3 in c:\\python39\\lib\\site-packages (from pandas) (2021.1)\n",
            "Requirement already satisfied: python-dateutil>=2.7.3 in c:\\python39\\lib\\site-packages (from pandas) (2.8.2)\n",
            "Requirement already satisfied: numpy>=1.17.3 in c:\\python39\\lib\\site-packages (from pandas) (1.21.2)\n",
            "Requirement already satisfied: six>=1.5 in c:\\python39\\lib\\site-packages (from python-dateutil>=2.7.3->pandas) (1.16.0)\n"
          ]
        },
        {
          "output_type": "stream",
          "name": "stderr",
          "text": [
            "WARNING: You are using pip version 21.1.3; however, version 21.2.4 is available.\n",
            "You should consider upgrading via the 'c:\\python39\\python.exe -m pip install --upgrade pip' command.\n"
          ]
        }
      ],
      "metadata": {
        "id": "iuN7gSgm8zlC",
        "colab": {
          "base_uri": "https://localhost:8080/"
        },
        "outputId": "37ee0e11-776d-4c1b-e697-b70f24f39332"
      }
    },
    {
      "cell_type": "code",
      "execution_count": 2,
      "source": [
        "import pandas as pd\r\n",
        "\r\n",
        "titanic = pd.read_csv ('minichallenge_titanic.csv')\r\n",
        "pd.set_option('display.max_rows', 10)\r\n",
        "titanic['Family Members'] = titanic['SibSp'] + titanic['Parch'] + 1\r\n",
        "for ind in titanic.index:\r\n",
        "  if(titanic['Ticket'][ind] == \"19928\" or titanic['Ticket'][ind]== \"19950\" or titanic['Ticket'][ind]== \"PC 17755\" or titanic['Ticket'][ind]==\"110152\"):\r\n",
        "    print(titanic['Ticket'][ind] )"
      ],
      "outputs": [
        {
          "output_type": "stream",
          "name": "stdout",
          "text": [
            "19950\n",
            "19950\n",
            "19928\n",
            "110152\n",
            "PC 17755\n",
            "19950\n",
            "19928\n",
            "19950\n",
            "110152\n",
            "PC 17755\n",
            "PC 17755\n",
            "110152\n"
          ]
        }
      ],
      "metadata": {
        "colab": {
          "base_uri": "https://localhost:8080/"
        },
        "id": "DqhCUSGh-SR_",
        "outputId": "cb1e0aa2-7021-40c6-ad03-27afbf0a3448"
      }
    },
    {
      "cell_type": "code",
      "execution_count": 3,
      "source": [
        "titanic.head()"
      ],
      "outputs": [
        {
          "output_type": "execute_result",
          "data": {
            "text/html": [
              "<div>\n",
              "<style scoped>\n",
              "    .dataframe tbody tr th:only-of-type {\n",
              "        vertical-align: middle;\n",
              "    }\n",
              "\n",
              "    .dataframe tbody tr th {\n",
              "        vertical-align: top;\n",
              "    }\n",
              "\n",
              "    .dataframe thead th {\n",
              "        text-align: right;\n",
              "    }\n",
              "</style>\n",
              "<table border=\"1\" class=\"dataframe\">\n",
              "  <thead>\n",
              "    <tr style=\"text-align: right;\">\n",
              "      <th></th>\n",
              "      <th>Unnamed: 0</th>\n",
              "      <th>PassengerId</th>\n",
              "      <th>Survived</th>\n",
              "      <th>Pclass</th>\n",
              "      <th>Name</th>\n",
              "      <th>Sex</th>\n",
              "      <th>Age</th>\n",
              "      <th>SibSp</th>\n",
              "      <th>Parch</th>\n",
              "      <th>Ticket</th>\n",
              "      <th>Fare</th>\n",
              "      <th>Cabin</th>\n",
              "      <th>Embarked</th>\n",
              "      <th>Family Members</th>\n",
              "    </tr>\n",
              "  </thead>\n",
              "  <tbody>\n",
              "    <tr>\n",
              "      <th>0</th>\n",
              "      <td>1</td>\n",
              "      <td>1</td>\n",
              "      <td>0</td>\n",
              "      <td>3</td>\n",
              "      <td>Braund, Mr. Owen Harris</td>\n",
              "      <td>male</td>\n",
              "      <td>22.0</td>\n",
              "      <td>1</td>\n",
              "      <td>0</td>\n",
              "      <td>A/5 21171</td>\n",
              "      <td>7.2500</td>\n",
              "      <td>NaN</td>\n",
              "      <td>S</td>\n",
              "      <td>2</td>\n",
              "    </tr>\n",
              "    <tr>\n",
              "      <th>1</th>\n",
              "      <td>2</td>\n",
              "      <td>2</td>\n",
              "      <td>1</td>\n",
              "      <td>1</td>\n",
              "      <td>Cumings, Mrs. John Bradley (Florence Briggs Th...</td>\n",
              "      <td>female</td>\n",
              "      <td>38.0</td>\n",
              "      <td>1</td>\n",
              "      <td>0</td>\n",
              "      <td>PC 17599</td>\n",
              "      <td>71.2833</td>\n",
              "      <td>C85</td>\n",
              "      <td>C</td>\n",
              "      <td>2</td>\n",
              "    </tr>\n",
              "    <tr>\n",
              "      <th>2</th>\n",
              "      <td>3</td>\n",
              "      <td>3</td>\n",
              "      <td>1</td>\n",
              "      <td>3</td>\n",
              "      <td>Heikkinen, Miss. Laina</td>\n",
              "      <td>female</td>\n",
              "      <td>26.0</td>\n",
              "      <td>0</td>\n",
              "      <td>0</td>\n",
              "      <td>STON/O2. 3101282</td>\n",
              "      <td>7.9250</td>\n",
              "      <td>NaN</td>\n",
              "      <td>S</td>\n",
              "      <td>1</td>\n",
              "    </tr>\n",
              "    <tr>\n",
              "      <th>3</th>\n",
              "      <td>4</td>\n",
              "      <td>4</td>\n",
              "      <td>1</td>\n",
              "      <td>1</td>\n",
              "      <td>Futrelle, Mrs. Jacques Heath (Lily May Peel)</td>\n",
              "      <td>female</td>\n",
              "      <td>35.0</td>\n",
              "      <td>1</td>\n",
              "      <td>0</td>\n",
              "      <td>113803</td>\n",
              "      <td>53.1000</td>\n",
              "      <td>C123</td>\n",
              "      <td>S</td>\n",
              "      <td>2</td>\n",
              "    </tr>\n",
              "    <tr>\n",
              "      <th>4</th>\n",
              "      <td>5</td>\n",
              "      <td>5</td>\n",
              "      <td>0</td>\n",
              "      <td>3</td>\n",
              "      <td>Allen, Mr. William Henry</td>\n",
              "      <td>male</td>\n",
              "      <td>35.0</td>\n",
              "      <td>0</td>\n",
              "      <td>0</td>\n",
              "      <td>373450</td>\n",
              "      <td>8.0500</td>\n",
              "      <td>NaN</td>\n",
              "      <td>S</td>\n",
              "      <td>1</td>\n",
              "    </tr>\n",
              "  </tbody>\n",
              "</table>\n",
              "</div>"
            ],
            "text/plain": [
              "   Unnamed: 0  PassengerId  Survived  Pclass  \\\n",
              "0           1            1         0       3   \n",
              "1           2            2         1       1   \n",
              "2           3            3         1       3   \n",
              "3           4            4         1       1   \n",
              "4           5            5         0       3   \n",
              "\n",
              "                                                Name     Sex   Age  SibSp  \\\n",
              "0                            Braund, Mr. Owen Harris    male  22.0      1   \n",
              "1  Cumings, Mrs. John Bradley (Florence Briggs Th...  female  38.0      1   \n",
              "2                             Heikkinen, Miss. Laina  female  26.0      0   \n",
              "3       Futrelle, Mrs. Jacques Heath (Lily May Peel)  female  35.0      1   \n",
              "4                           Allen, Mr. William Henry    male  35.0      0   \n",
              "\n",
              "   Parch            Ticket     Fare Cabin Embarked  Family Members  \n",
              "0      0         A/5 21171   7.2500   NaN        S               2  \n",
              "1      0          PC 17599  71.2833   C85        C               2  \n",
              "2      0  STON/O2. 3101282   7.9250   NaN        S               1  \n",
              "3      0            113803  53.1000  C123        S               2  \n",
              "4      0            373450   8.0500   NaN        S               1  "
            ]
          },
          "metadata": {},
          "execution_count": 3
        }
      ],
      "metadata": {
        "colab": {
          "base_uri": "https://localhost:8080/",
          "height": 519
        },
        "id": "eQheaELux50Q",
        "outputId": "88b9b50a-4815-4c30-ca72-c95abcab73c0"
      }
    },
    {
      "cell_type": "code",
      "execution_count": 4,
      "source": [
        "import pandas as pd\r\n",
        "\r\n",
        "titanic = pd.read_csv ('minichallenge_titanic.csv')\r\n",
        "pd.set_option('display.max_rows', 10)\r\n",
        "titanic['Family Members'] = titanic['SibSp'] + titanic['Parch'] + 1\r\n",
        "for ticket in titanic['Ticket']:\r\n",
        "  if(ticket == \"19928\" or ticket== \"19950\" or ticket== \"PC 17755\" or ticket==\"110152\"):\r\n",
        "    print(ticket)\r\n",
        "#titanic.head()\r\n"
      ],
      "outputs": [
        {
          "output_type": "stream",
          "name": "stdout",
          "text": [
            "19950\n",
            "19950\n",
            "19928\n",
            "110152\n",
            "PC 17755\n",
            "19950\n",
            "19928\n",
            "19950\n",
            "110152\n",
            "PC 17755\n",
            "PC 17755\n",
            "110152\n"
          ]
        }
      ],
      "metadata": {
        "id": "u9PmLdXv_7sa",
        "colab": {
          "base_uri": "https://localhost:8080/"
        },
        "outputId": "15e88413-50eb-4b4e-873d-9ccc37c411e0"
      }
    },
    {
      "cell_type": "code",
      "execution_count": 5,
      "source": [
        "titanic = pd.read_csv ('minichallenge_titanic.csv')\r\n",
        "pd.set_option('display.max_rows', 10)\r\n",
        "titanic['Family Members'] = titanic['SibSp'] + titanic['Parch'] + 1\r\n",
        "titanic.filter(items=['Ticket'])\r\n",
        "#titanic.head()"
      ],
      "outputs": [
        {
          "output_type": "execute_result",
          "data": {
            "text/html": [
              "<div>\n",
              "<style scoped>\n",
              "    .dataframe tbody tr th:only-of-type {\n",
              "        vertical-align: middle;\n",
              "    }\n",
              "\n",
              "    .dataframe tbody tr th {\n",
              "        vertical-align: top;\n",
              "    }\n",
              "\n",
              "    .dataframe thead th {\n",
              "        text-align: right;\n",
              "    }\n",
              "</style>\n",
              "<table border=\"1\" class=\"dataframe\">\n",
              "  <thead>\n",
              "    <tr style=\"text-align: right;\">\n",
              "      <th></th>\n",
              "      <th>Ticket</th>\n",
              "    </tr>\n",
              "  </thead>\n",
              "  <tbody>\n",
              "    <tr>\n",
              "      <th>0</th>\n",
              "      <td>A/5 21171</td>\n",
              "    </tr>\n",
              "    <tr>\n",
              "      <th>1</th>\n",
              "      <td>PC 17599</td>\n",
              "    </tr>\n",
              "    <tr>\n",
              "      <th>2</th>\n",
              "      <td>STON/O2. 3101282</td>\n",
              "    </tr>\n",
              "    <tr>\n",
              "      <th>3</th>\n",
              "      <td>113803</td>\n",
              "    </tr>\n",
              "    <tr>\n",
              "      <th>4</th>\n",
              "      <td>373450</td>\n",
              "    </tr>\n",
              "    <tr>\n",
              "      <th>...</th>\n",
              "      <td>...</td>\n",
              "    </tr>\n",
              "    <tr>\n",
              "      <th>886</th>\n",
              "      <td>211536</td>\n",
              "    </tr>\n",
              "    <tr>\n",
              "      <th>887</th>\n",
              "      <td>112053</td>\n",
              "    </tr>\n",
              "    <tr>\n",
              "      <th>888</th>\n",
              "      <td>W./C. 6607</td>\n",
              "    </tr>\n",
              "    <tr>\n",
              "      <th>889</th>\n",
              "      <td>111369</td>\n",
              "    </tr>\n",
              "    <tr>\n",
              "      <th>890</th>\n",
              "      <td>370376</td>\n",
              "    </tr>\n",
              "  </tbody>\n",
              "</table>\n",
              "<p>891 rows × 1 columns</p>\n",
              "</div>"
            ],
            "text/plain": [
              "               Ticket\n",
              "0           A/5 21171\n",
              "1            PC 17599\n",
              "2    STON/O2. 3101282\n",
              "3              113803\n",
              "4              373450\n",
              "..                ...\n",
              "886            211536\n",
              "887            112053\n",
              "888        W./C. 6607\n",
              "889            111369\n",
              "890            370376\n",
              "\n",
              "[891 rows x 1 columns]"
            ]
          },
          "metadata": {},
          "execution_count": 5
        }
      ],
      "metadata": {
        "id": "3wdn6_VyApjp",
        "colab": {
          "base_uri": "https://localhost:8080/",
          "height": 422
        },
        "outputId": "5c80fbbf-d02a-4884-b848-1198f16257bc"
      }
    },
    {
      "cell_type": "code",
      "execution_count": null,
      "source": [],
      "outputs": [],
      "metadata": {
        "id": "reqSi38SYk2z"
      }
    },
    {
      "cell_type": "code",
      "execution_count": 6,
      "source": [
        "female = titanic.loc[titanic['Sex'].isin(['female'])]\r\n",
        "female_num = female['Sex'].count()\r\n",
        "\r\n",
        "male = titanic.loc[titanic['Sex'].isin(['male'])]\r\n",
        "male_num = male['Sex'].count()\r\n",
        "\r\n",
        "\r\n",
        "import matplotlib.pyplot as plt\r\n",
        "# Data to plot\r\n",
        "labels = 'Men', 'Female', \r\n",
        "sizes = [male_num, female_num ]\r\n",
        "colors = ['gold', 'yellowgreen']\r\n",
        "explode = (0.1, 0)  # explode 1st slice\r\n",
        "\r\n",
        "# Plot\r\n",
        "plt.pie(sizes, explode=explode, labels=labels, colors=colors)\r\n",
        "\r\n",
        "\r\n",
        "plt.axis('equal')\r\n",
        "plt.show()\r\n",
        "plt.pie(sizes, explode=explode, labels=labels, colors=colors)"
      ],
      "outputs": [
        {
          "output_type": "display_data",
          "data": {
            "image/png": "[encoded data removed]",
            "text/plain": [
              "<Figure size 432x288 with 1 Axes>"
            ]
          },
          "metadata": {}
        },
        {
          "output_type": "execute_result",
          "data": {
            "text/plain": [
              "([<matplotlib.patches.Wedge at 0x1fb72e9fdf0>,\n",
              "  <matplotlib.patches.Wedge at 0x1fb72e9f820>],\n",
              " [Text(-0.5366677240149768, 1.0733069244165832, 'Men'),\n",
              "  Text(0.4919455057964525, -0.9838646346559433, 'Female')])"
            ]
          },
          "metadata": {},
          "execution_count": 6
        },
        {
          "output_type": "display_data",
          "data": {
            "image/png": "[encoded data removed]",
            "text/plain": [
              "<Figure size 432x288 with 1 Axes>"
            ]
          },
          "metadata": {}
        }
      ],
      "metadata": {
        "colab": {
          "base_uri": "https://localhost:8080/",
          "height": 549
        },
        "id": "hARSlYkyUgOm",
        "outputId": "9f88dc0a-7b46-4d45-9d05-58da1afedec5"
      }
    },
    {
      "cell_type": "code",
      "execution_count": 7,
      "source": [
        "import numpy as np\r\n",
        "\r\n",
        "Pas_Age = []\r\n",
        "\r\n",
        "for i in titanic['Age']:\r\n",
        "  if (i >= 0):\r\n",
        "    Pas_Age.append(i)\r\n",
        "\r\n",
        "print (Pas_Age)\r\n",
        "fig, ax = plt.subplots()\r\n",
        "ax.boxplot(Pas_Age)\r\n",
        "plt.show()"
      ],
      "outputs": [
        {
          "output_type": "stream",
          "name": "stdout",
          "text": [
            "[22.0, 38.0, 26.0, 35.0, 35.0, 54.0, 2.0, 27.0, 14.0, 4.0, 58.0, 20.0, 39.0, 14.0, 55.0, 2.0, 31.0, 35.0, 34.0, 15.0, 28.0, 8.0, 38.0, 19.0, 40.0, 66.0, 28.0, 42.0, 21.0, 18.0, 14.0, 40.0, 27.0, 3.0, 19.0, 18.0, 7.0, 21.0, 49.0, 29.0, 65.0, 21.0, 28.5, 5.0, 11.0, 22.0, 38.0, 45.0, 4.0, 29.0, 19.0, 17.0, 26.0, 32.0, 16.0, 21.0, 26.0, 32.0, 25.0, 0.83, 30.0, 22.0, 29.0, 28.0, 17.0, 33.0, 16.0, 23.0, 24.0, 29.0, 20.0, 46.0, 26.0, 59.0, 71.0, 23.0, 34.0, 34.0, 28.0, 21.0, 33.0, 37.0, 28.0, 21.0, 38.0, 47.0, 14.5, 22.0, 20.0, 17.0, 21.0, 70.5, 29.0, 24.0, 2.0, 21.0, 32.5, 32.5, 54.0, 12.0, 24.0, 45.0, 33.0, 20.0, 47.0, 29.0, 25.0, 23.0, 19.0, 37.0, 16.0, 24.0, 22.0, 24.0, 19.0, 18.0, 19.0, 27.0, 9.0, 36.5, 42.0, 51.0, 22.0, 55.5, 40.5, 51.0, 16.0, 30.0, 44.0, 40.0, 26.0, 17.0, 1.0, 9.0, 45.0, 28.0, 61.0, 4.0, 1.0, 21.0, 56.0, 18.0, 50.0, 30.0, 36.0, 9.0, 1.0, 4.0, 45.0, 40.0, 36.0, 32.0, 19.0, 19.0, 3.0, 44.0, 58.0, 42.0, 24.0, 28.0, 34.0, 45.5, 18.0, 2.0, 32.0, 26.0, 16.0, 40.0, 24.0, 35.0, 22.0, 30.0, 31.0, 27.0, 42.0, 32.0, 30.0, 16.0, 27.0, 51.0, 38.0, 22.0, 19.0, 20.5, 18.0, 35.0, 29.0, 59.0, 5.0, 24.0, 44.0, 8.0, 19.0, 33.0, 29.0, 22.0, 30.0, 44.0, 25.0, 24.0, 37.0, 54.0, 29.0, 62.0, 30.0, 41.0, 29.0, 30.0, 35.0, 50.0, 3.0, 52.0, 40.0, 36.0, 16.0, 25.0, 58.0, 35.0, 25.0, 41.0, 37.0, 63.0, 45.0, 7.0, 35.0, 65.0, 28.0, 16.0, 19.0, 33.0, 30.0, 22.0, 42.0, 22.0, 26.0, 19.0, 36.0, 24.0, 24.0, 23.5, 2.0, 50.0, 19.0, 0.92, 17.0, 30.0, 30.0, 24.0, 18.0, 26.0, 28.0, 43.0, 26.0, 24.0, 54.0, 31.0, 40.0, 22.0, 27.0, 30.0, 22.0, 36.0, 61.0, 36.0, 31.0, 16.0, 45.5, 38.0, 16.0, 29.0, 41.0, 45.0, 45.0, 2.0, 24.0, 28.0, 25.0, 36.0, 24.0, 40.0, 3.0, 42.0, 23.0, 15.0, 25.0, 28.0, 22.0, 38.0, 40.0, 29.0, 45.0, 35.0, 30.0, 60.0, 24.0, 25.0, 18.0, 19.0, 22.0, 3.0, 22.0, 27.0, 20.0, 19.0, 42.0, 1.0, 32.0, 35.0, 18.0, 1.0, 36.0, 17.0, 36.0, 21.0, 28.0, 23.0, 24.0, 22.0, 31.0, 46.0, 23.0, 28.0, 39.0, 26.0, 21.0, 28.0, 20.0, 34.0, 51.0, 3.0, 21.0, 33.0, 44.0, 34.0, 18.0, 30.0, 10.0, 21.0, 29.0, 28.0, 18.0, 28.0, 19.0, 32.0, 28.0, 42.0, 17.0, 50.0, 14.0, 21.0, 24.0, 64.0, 31.0, 45.0, 20.0, 25.0, 28.0, 4.0, 13.0, 34.0, 5.0, 52.0, 36.0, 30.0, 49.0, 29.0, 65.0, 50.0, 48.0, 34.0, 47.0, 48.0, 38.0, 56.0, 0.75, 38.0, 33.0, 23.0, 22.0, 34.0, 29.0, 22.0, 2.0, 9.0, 50.0, 63.0, 25.0, 35.0, 58.0, 30.0, 9.0, 21.0, 55.0, 71.0, 21.0, 54.0, 25.0, 24.0, 17.0, 21.0, 37.0, 16.0, 18.0, 33.0, 28.0, 26.0, 29.0, 36.0, 54.0, 24.0, 47.0, 34.0, 36.0, 32.0, 30.0, 22.0, 44.0, 40.5, 50.0, 39.0, 23.0, 2.0, 17.0, 30.0, 7.0, 45.0, 30.0, 22.0, 36.0, 9.0, 11.0, 32.0, 50.0, 64.0, 19.0, 33.0, 8.0, 17.0, 27.0, 22.0, 22.0, 62.0, 48.0, 39.0, 36.0, 40.0, 28.0, 24.0, 19.0, 29.0, 32.0, 62.0, 53.0, 36.0, 16.0, 19.0, 34.0, 39.0, 32.0, 25.0, 39.0, 54.0, 36.0, 18.0, 47.0, 60.0, 22.0, 35.0, 52.0, 47.0, 37.0, 36.0, 49.0, 49.0, 24.0, 44.0, 35.0, 36.0, 30.0, 27.0, 22.0, 40.0, 39.0, 35.0, 24.0, 34.0, 26.0, 4.0, 26.0, 27.0, 42.0, 20.0, 21.0, 21.0, 61.0, 57.0, 21.0, 26.0, 80.0, 51.0, 32.0, 9.0, 28.0, 32.0, 31.0, 41.0, 20.0, 24.0, 2.0, 0.75, 48.0, 19.0, 56.0, 23.0, 18.0, 21.0, 18.0, 24.0, 32.0, 23.0, 58.0, 50.0, 40.0, 47.0, 36.0, 20.0, 32.0, 25.0, 43.0, 40.0, 31.0, 70.0, 31.0, 18.0, 24.5, 18.0, 43.0, 36.0, 27.0, 20.0, 14.0, 60.0, 25.0, 14.0, 19.0, 18.0, 15.0, 31.0, 4.0, 25.0, 60.0, 52.0, 44.0, 49.0, 42.0, 18.0, 35.0, 18.0, 25.0, 26.0, 39.0, 45.0, 42.0, 22.0, 24.0, 48.0, 29.0, 52.0, 19.0, 38.0, 27.0, 33.0, 6.0, 17.0, 34.0, 50.0, 27.0, 20.0, 30.0, 25.0, 25.0, 29.0, 11.0, 23.0, 23.0, 28.5, 48.0, 35.0, 36.0, 21.0, 24.0, 31.0, 70.0, 16.0, 30.0, 19.0, 31.0, 4.0, 6.0, 33.0, 23.0, 48.0, 0.67, 28.0, 18.0, 34.0, 33.0, 41.0, 20.0, 36.0, 16.0, 51.0, 30.5, 32.0, 24.0, 48.0, 57.0, 54.0, 18.0, 5.0, 43.0, 13.0, 17.0, 29.0, 25.0, 25.0, 18.0, 8.0, 1.0, 46.0, 16.0, 25.0, 39.0, 49.0, 31.0, 30.0, 30.0, 34.0, 31.0, 11.0, 0.42, 27.0, 31.0, 39.0, 18.0, 39.0, 33.0, 26.0, 39.0, 35.0, 6.0, 30.5, 23.0, 31.0, 43.0, 10.0, 52.0, 27.0, 38.0, 27.0, 2.0, 1.0, 62.0, 15.0, 0.83, 23.0, 18.0, 39.0, 21.0, 32.0, 20.0, 16.0, 30.0, 34.5, 17.0, 42.0, 35.0, 28.0, 4.0, 74.0, 9.0, 16.0, 44.0, 18.0, 45.0, 51.0, 24.0, 41.0, 21.0, 48.0, 24.0, 42.0, 27.0, 31.0, 4.0, 26.0, 47.0, 33.0, 47.0, 28.0, 15.0, 20.0, 19.0, 56.0, 25.0, 33.0, 22.0, 28.0, 25.0, 39.0, 27.0, 19.0, 26.0, 32.0]\n"
          ]
        },
        {
          "output_type": "display_data",
          "data": {
            "image/png": "[encoded data removed]",
            "text/plain": [
              "<Figure size 432x288 with 1 Axes>"
            ]
          },
          "metadata": {
            "needs_background": "light"
          }
        }
      ],
      "metadata": {
        "colab": {
          "base_uri": "https://localhost:8080/",
          "height": 302
        },
        "id": "VocNbnIdfvlW",
        "outputId": "9362fe1f-654a-4b47-ae86-ff866b57a5ed"
      }
    },
    {
      "cell_type": "code",
      "execution_count": null,
      "source": [],
      "outputs": [],
      "metadata": {
        "colab": {
          "base_uri": "https://localhost:8080/"
        },
        "id": "RYMU1JG3gDRl",
        "outputId": "a2abe42d-eee9-44ac-d97b-3c5f8bceebec"
      }
    },
    {
      "cell_type": "code",
      "execution_count": 8,
      "source": [
        "type(titanic['Age'].iloc[5])\r\n",
        "\r\n",
        "\r\n"
      ],
      "outputs": [
        {
          "output_type": "execute_result",
          "data": {
            "text/plain": [
              "numpy.float64"
            ]
          },
          "metadata": {},
          "execution_count": 8
        }
      ],
      "metadata": {
        "colab": {
          "base_uri": "https://localhost:8080/"
        },
        "id": "kI0ncZwgeYzs",
        "outputId": "693e6a1b-1bd3-4397-b903-c3ac091d59ff"
      }
    },
    {
      "cell_type": "code",
      "execution_count": 9,
      "source": [
        "type(Pas_Age[5])"
      ],
      "outputs": [
        {
          "output_type": "execute_result",
          "data": {
            "text/plain": [
              "float"
            ]
          },
          "metadata": {},
          "execution_count": 9
        }
      ],
      "metadata": {
        "colab": {
          "base_uri": "https://localhost:8080/"
        },
        "id": "xv4muWg0h2vT",
        "outputId": "5b2c0e2c-7408-4286-b8fb-8365adc5b858"
      }
    },
    {
      "cell_type": "code",
      "execution_count": 10,
      "source": [
        "Age_num=['25']\r\n",
        "Target = titanic.loc[titanic['Age'].isin(Age_num)]\r\n",
        "\r\n",
        "Age_num=['female']\r\n",
        "New_Target = Target.loc[Target['Sex'].isin(Age_num)]\r\n",
        "\r\n",
        "Age_num=['1']\r\n",
        "Survived= New_Target.loc[New_Target['Survived'].isin(Age_num)]\r\n",
        "\r\n",
        "survivalrate = Survived.count() / New_Target.count() \r\n",
        "print(f\"The survival Rate is: {survivalrate['Survived']}\")\r\n"
      ],
      "outputs": [
        {
          "output_type": "stream",
          "name": "stdout",
          "text": [
            "The survival Rate is: nan\n"
          ]
        }
      ],
      "metadata": {
        "colab": {
          "base_uri": "https://localhost:8080/"
        },
        "id": "lj7X3QHLiJ_p",
        "outputId": "fd62f7e1-0f30-4aea-aef6-9289dd5a7ed0"
      }
    },
    {
      "cell_type": "markdown",
      "source": [],
      "metadata": {
        "id": "kAMcCVnjs75k"
      }
    },
    {
      "cell_type": "code",
      "execution_count": 11,
      "source": [
        "\r\n",
        "Age_num=['female']\r\n",
        "New_Target = titanic.loc[titanic['Sex'].isin(Age_num)]\r\n",
        "\r\n",
        "Age_num=['1']\r\n",
        "Survived= New_Target.loc[New_Target['Survived'].isin(Age_num)]\r\n",
        "\r\n",
        "survivalrate = Survived.count() / New_Target.count() \r\n",
        "print(f\"The survival Rate is: {survivalrate['Survived']}\")"
      ],
      "outputs": [
        {
          "output_type": "stream",
          "name": "stdout",
          "text": [
            "The survival Rate is: 0.0\n"
          ]
        }
      ],
      "metadata": {
        "colab": {
          "base_uri": "https://localhost:8080/"
        },
        "id": "IjNbGA2Pp3sZ",
        "outputId": "c5f8fec4-4a83-46f3-e1f4-22c847895e25"
      }
    },
    {
      "cell_type": "code",
      "execution_count": 12,
      "source": [
        "Age_num=['male']\r\n",
        "New_Target = titanic.loc[titanic['Sex'].isin(Age_num)]\r\n",
        "\r\n",
        "Age_num=['1']\r\n",
        "Survived= New_Target.loc[New_Target['Survived'].isin(Age_num)]\r\n",
        "\r\n",
        "survivalrate = Survived.count() / New_Target.count() \r\n",
        "print(f\"The survival Rate of Men is: {survivalrate['Survived']}\")\r\n",
        "\r\n",
        "Age_num=['female']\r\n",
        "New_Target = titanic.loc[titanic['Sex'].isin(Age_num)]\r\n",
        "\r\n",
        "\r\n",
        "\r\n",
        "Age_num=['1']\r\n",
        "Survived= New_Target.loc[New_Target['Survived'].isin(Age_num)]\r\n",
        "\r\n",
        "survivalrate = Survived.count() / New_Target.count() \r\n",
        "print(f\"The survival Rate of Women is: {survivalrate['Survived']}\")\r\n",
        "\r\n",
        "\r\n",
        "New_Target = titanic.loc[titanic['Age'] < 18]\r\n",
        "\r\n",
        "Age_num=['1']\r\n",
        "Survived= New_Target.loc[New_Target['Survived'].isin(Age_num)]\r\n",
        "\r\n",
        "survivalrate = Survived.count() / New_Target.count() \r\n",
        "print(f\"The survival Rate of Children is: {survivalrate['Survived']}\")\r\n",
        "\r\n",
        "\r\n",
        "New_Target = titanic.loc[titanic['Class'] < 18]\r\n",
        "\r\n",
        "Age_num=['1']\r\n",
        "Survived= New_Target.loc[New_Target['Survived'].isin(Age_num)]\r\n",
        "\r\n",
        "survivalrate = Survived.count() / New_Target.count() \r\n",
        "print(f\"The survival Rate of Children is: {survivalrate['Survived']}\")\r\n",
        "\r\n",
        "\r\n",
        "\r\n"
      ],
      "outputs": [
        {
          "output_type": "stream",
          "name": "stdout",
          "text": [
            "The survival Rate of Men is: 0.0\n",
            "The survival Rate of Women is: 0.0\n",
            "The survival Rate of Children is: 0.0\n"
          ]
        },
        {
          "output_type": "error",
          "ename": "KeyError",
          "evalue": "'Class'",
          "traceback": [
            "\u001b[1;31m---------------------------------------------------------------------------\u001b[0m",
            "\u001b[1;31mKeyError\u001b[0m                                  Traceback (most recent call last)",
            "\u001b[1;32mC:\\Python39\\lib\\site-packages\\pandas\\core\\indexes\\base.py\u001b[0m in \u001b[0;36mget_loc\u001b[1;34m(self, key, method, tolerance)\u001b[0m\n\u001b[0;32m   3360\u001b[0m             \u001b[1;32mtry\u001b[0m\u001b[1;33m:\u001b[0m\u001b[1;33m\u001b[0m\u001b[1;33m\u001b[0m\u001b[0m\n\u001b[1;32m-> 3361\u001b[1;33m                 \u001b[1;32mreturn\u001b[0m \u001b[0mself\u001b[0m\u001b[1;33m.\u001b[0m\u001b[0m_engine\u001b[0m\u001b[1;33m.\u001b[0m\u001b[0mget_loc\u001b[0m\u001b[1;33m(\u001b[0m\u001b[0mcasted_key\u001b[0m\u001b[1;33m)\u001b[0m\u001b[1;33m\u001b[0m\u001b[1;33m\u001b[0m\u001b[0m\n\u001b[0m\u001b[0;32m   3362\u001b[0m             \u001b[1;32mexcept\u001b[0m \u001b[0mKeyError\u001b[0m \u001b[1;32mas\u001b[0m \u001b[0merr\u001b[0m\u001b[1;33m:\u001b[0m\u001b[1;33m\u001b[0m\u001b[1;33m\u001b[0m\u001b[0m\n",
            "\u001b[1;32mC:\\Python39\\lib\\site-packages\\pandas\\_libs\\index.pyx\u001b[0m in \u001b[0;36mpandas._libs.index.IndexEngine.get_loc\u001b[1;34m()\u001b[0m\n",
            "\u001b[1;32mC:\\Python39\\lib\\site-packages\\pandas\\_libs\\index.pyx\u001b[0m in \u001b[0;36mpandas._libs.index.IndexEngine.get_loc\u001b[1;34m()\u001b[0m\n",
            "\u001b[1;32mpandas\\_libs\\hashtable_class_helper.pxi\u001b[0m in \u001b[0;36mpandas._libs.hashtable.PyObjectHashTable.get_item\u001b[1;34m()\u001b[0m\n",
            "\u001b[1;32mpandas\\_libs\\hashtable_class_helper.pxi\u001b[0m in \u001b[0;36mpandas._libs.hashtable.PyObjectHashTable.get_item\u001b[1;34m()\u001b[0m\n",
            "\u001b[1;31mKeyError\u001b[0m: 'Class'",
            "\nThe above exception was the direct cause of the following exception:\n",
            "\u001b[1;31mKeyError\u001b[0m                                  Traceback (most recent call last)",
            "\u001b[1;32m~\\AppData\\Local\\Temp/ipykernel_7660/662130622.py\u001b[0m in \u001b[0;36m<module>\u001b[1;34m\u001b[0m\n\u001b[0;32m     29\u001b[0m \u001b[1;33m\u001b[0m\u001b[0m\n\u001b[0;32m     30\u001b[0m \u001b[1;33m\u001b[0m\u001b[0m\n\u001b[1;32m---> 31\u001b[1;33m \u001b[0mNew_Target\u001b[0m \u001b[1;33m=\u001b[0m \u001b[0mtitanic\u001b[0m\u001b[1;33m.\u001b[0m\u001b[0mloc\u001b[0m\u001b[1;33m[\u001b[0m\u001b[0mtitanic\u001b[0m\u001b[1;33m[\u001b[0m\u001b[1;34m'Class'\u001b[0m\u001b[1;33m]\u001b[0m \u001b[1;33m<\u001b[0m \u001b[1;36m18\u001b[0m\u001b[1;33m]\u001b[0m\u001b[1;33m\u001b[0m\u001b[1;33m\u001b[0m\u001b[0m\n\u001b[0m\u001b[0;32m     32\u001b[0m \u001b[1;33m\u001b[0m\u001b[0m\n\u001b[0;32m     33\u001b[0m \u001b[0mAge_num\u001b[0m\u001b[1;33m=\u001b[0m\u001b[1;33m[\u001b[0m\u001b[1;34m'1'\u001b[0m\u001b[1;33m]\u001b[0m\u001b[1;33m\u001b[0m\u001b[1;33m\u001b[0m\u001b[0m\n",
            "\u001b[1;32mC:\\Python39\\lib\\site-packages\\pandas\\core\\frame.py\u001b[0m in \u001b[0;36m__getitem__\u001b[1;34m(self, key)\u001b[0m\n\u001b[0;32m   3456\u001b[0m             \u001b[1;32mif\u001b[0m \u001b[0mself\u001b[0m\u001b[1;33m.\u001b[0m\u001b[0mcolumns\u001b[0m\u001b[1;33m.\u001b[0m\u001b[0mnlevels\u001b[0m \u001b[1;33m>\u001b[0m \u001b[1;36m1\u001b[0m\u001b[1;33m:\u001b[0m\u001b[1;33m\u001b[0m\u001b[1;33m\u001b[0m\u001b[0m\n\u001b[0;32m   3457\u001b[0m                 \u001b[1;32mreturn\u001b[0m \u001b[0mself\u001b[0m\u001b[1;33m.\u001b[0m\u001b[0m_getitem_multilevel\u001b[0m\u001b[1;33m(\u001b[0m\u001b[0mkey\u001b[0m\u001b[1;33m)\u001b[0m\u001b[1;33m\u001b[0m\u001b[1;33m\u001b[0m\u001b[0m\n\u001b[1;32m-> 3458\u001b[1;33m             \u001b[0mindexer\u001b[0m \u001b[1;33m=\u001b[0m \u001b[0mself\u001b[0m\u001b[1;33m.\u001b[0m\u001b[0mcolumns\u001b[0m\u001b[1;33m.\u001b[0m\u001b[0mget_loc\u001b[0m\u001b[1;33m(\u001b[0m\u001b[0mkey\u001b[0m\u001b[1;33m)\u001b[0m\u001b[1;33m\u001b[0m\u001b[1;33m\u001b[0m\u001b[0m\n\u001b[0m\u001b[0;32m   3459\u001b[0m             \u001b[1;32mif\u001b[0m \u001b[0mis_integer\u001b[0m\u001b[1;33m(\u001b[0m\u001b[0mindexer\u001b[0m\u001b[1;33m)\u001b[0m\u001b[1;33m:\u001b[0m\u001b[1;33m\u001b[0m\u001b[1;33m\u001b[0m\u001b[0m\n\u001b[0;32m   3460\u001b[0m                 \u001b[0mindexer\u001b[0m \u001b[1;33m=\u001b[0m \u001b[1;33m[\u001b[0m\u001b[0mindexer\u001b[0m\u001b[1;33m]\u001b[0m\u001b[1;33m\u001b[0m\u001b[1;33m\u001b[0m\u001b[0m\n",
            "\u001b[1;32mC:\\Python39\\lib\\site-packages\\pandas\\core\\indexes\\base.py\u001b[0m in \u001b[0;36mget_loc\u001b[1;34m(self, key, method, tolerance)\u001b[0m\n\u001b[0;32m   3361\u001b[0m                 \u001b[1;32mreturn\u001b[0m \u001b[0mself\u001b[0m\u001b[1;33m.\u001b[0m\u001b[0m_engine\u001b[0m\u001b[1;33m.\u001b[0m\u001b[0mget_loc\u001b[0m\u001b[1;33m(\u001b[0m\u001b[0mcasted_key\u001b[0m\u001b[1;33m)\u001b[0m\u001b[1;33m\u001b[0m\u001b[1;33m\u001b[0m\u001b[0m\n\u001b[0;32m   3362\u001b[0m             \u001b[1;32mexcept\u001b[0m \u001b[0mKeyError\u001b[0m \u001b[1;32mas\u001b[0m \u001b[0merr\u001b[0m\u001b[1;33m:\u001b[0m\u001b[1;33m\u001b[0m\u001b[1;33m\u001b[0m\u001b[0m\n\u001b[1;32m-> 3363\u001b[1;33m                 \u001b[1;32mraise\u001b[0m \u001b[0mKeyError\u001b[0m\u001b[1;33m(\u001b[0m\u001b[0mkey\u001b[0m\u001b[1;33m)\u001b[0m \u001b[1;32mfrom\u001b[0m \u001b[0merr\u001b[0m\u001b[1;33m\u001b[0m\u001b[1;33m\u001b[0m\u001b[0m\n\u001b[0m\u001b[0;32m   3364\u001b[0m \u001b[1;33m\u001b[0m\u001b[0m\n\u001b[0;32m   3365\u001b[0m         \u001b[1;32mif\u001b[0m \u001b[0mis_scalar\u001b[0m\u001b[1;33m(\u001b[0m\u001b[0mkey\u001b[0m\u001b[1;33m)\u001b[0m \u001b[1;32mand\u001b[0m \u001b[0misna\u001b[0m\u001b[1;33m(\u001b[0m\u001b[0mkey\u001b[0m\u001b[1;33m)\u001b[0m \u001b[1;32mand\u001b[0m \u001b[1;32mnot\u001b[0m \u001b[0mself\u001b[0m\u001b[1;33m.\u001b[0m\u001b[0mhasnans\u001b[0m\u001b[1;33m:\u001b[0m\u001b[1;33m\u001b[0m\u001b[1;33m\u001b[0m\u001b[0m\n",
            "\u001b[1;31mKeyError\u001b[0m: 'Class'"
          ]
        }
      ],
      "metadata": {
        "colab": {
          "base_uri": "https://localhost:8080/"
        },
        "id": "kENodZ-rt0_n",
        "outputId": "0e79ad3c-78b8-4615-91da-722e154ebb24"
      }
    },
    {
      "cell_type": "code",
      "execution_count": 45,
      "source": [
        "# Load libraries\r\n",
        "\r\n",
        "#!pip install pandas\r\n",
        "#!pip install scikit-learn>=0.24.1, <=0.24.2\r\n",
        "#!pip install matplotlib>=3.3.4, <=3.4.1             \r\n",
        "\r\n",
        "import pandas as pd\r\n",
        "from sklearn.tree import DecisionTreeClassifier # Import Decision Tree Classifier\r\n",
        "from sklearn.model_selection import train_test_split # Import train_test_split function\r\n",
        "from sklearn import metrics #Import scikit-learn metrics module for accuracy calculation\r\n",
        "from sklearn import tree\r\n",
        "import matplotlib.pyplot as plt\r\n",
        "\r\n",
        "titanic = pd.read_csv('minichallenge_titanic.csv')\r\n",
        "\r\n",
        "titanic_mean_sex = titanic.groupby(['Sex']).mean().sort_values(\r\n",
        "     ['Survived'], ascending=False)\r\n",
        "titanic_mean_Pclass = titanic.groupby(['Pclass']).mean(\r\n",
        " ).sort_values(['Survived'], ascending=False)\r\n",
        "\r\n",
        "\r\n",
        "titanic['Family Members'] = titanic['SibSp'] + titanic['Parch'] + 1\r\n",
        "values = []\r\n",
        "for  key in titanic['Age'].index:\r\n",
        "    Age = titanic['Age'].loc[key]\r\n",
        "    if Age in range(0,18):\r\n",
        "         values.append(1)\r\n",
        "    elif Age in range(18,65):\r\n",
        "         values.append(2)\r\n",
        "    elif Age in range(65,999):\r\n",
        "         values.append(3)\r\n",
        "    else:\r\n",
        "         values.append(4)\r\n",
        "titanic['Age_cat'] = values\r\n",
        "\r\n",
        "feature_cols = [\"Pclass\",\"SibSp\",\"Parch\",\"Fare\", \"Age_cat\"]\r\n",
        "X = titanic[feature_cols] # Features\r\n",
        "y = titanic.Survived # Target variable\r\n",
        "\r\n",
        "\r\n",
        "\r\n",
        "# Split dataset into training set and test set\r\n",
        "X_train, X_test, y_train, y_test = train_test_split(X, y, test_size=0.3, random_state=1) # 70% training and 30% test|\r\n",
        "\r\n",
        "\r\n",
        "\r\n",
        "# Create Decision Tree classifer object\r\n",
        "clf = DecisionTreeClassifier()\r\n",
        "\r\n",
        "# Train Decision Tree Classifer\r\n",
        "clf = clf.fit(X_train,y_train)\r\n",
        "\r\n",
        "#Predict the response for test dataset\r\n",
        "y_pred = clf.predict(X_test)\r\n",
        "print(\"Accuracy:\",metrics.accuracy_score(y_test, y_pred))\r\n",
        "\r\n",
        "plt.figure(figsize=(24, 10), dpi=1000)\r\n",
        "tree.plot_tree(clf,\r\n",
        "               feature_names=feature_cols,\r\n",
        "               class_names=[\"0\", \"1\"],\r\n",
        "               filled=True,\r\n",
        "               rounded=True)\r\n",
        "\r\n",
        "\r\n"
      ],
      "outputs": [
        {
          "output_type": "stream",
          "name": "stdout",
          "text": [
            "Accuracy: 0.6529850746268657\n"
          ]
        },
        {
          "output_type": "execute_result",
          "data": {
            "text/plain": [
              "[Text(9332.660461397898, 7370.238095238095, 'Pclass <= 2.5\\ngini = 0.463\\nsamples = 623\\nvalue = [396, 227]\\nclass = 0'),\n",
              " Text(5527.318410232982, 7010.714285714286, 'Parch <= 0.5\\ngini = 0.495\\nsamples = 270\\nvalue = [121, 149]\\nclass = 1'),\n",
              " Text(3798.172681589767, 6651.190476190476, 'Fare <= 51.179\\ngini = 0.498\\nsamples = 196\\nvalue = [104, 92]\\nclass = 0'),\n",
              " Text(3007.948835084513, 6291.666666666667, 'Fare <= 7.75\\ngini = 0.455\\nsamples = 137\\nvalue = [89, 48]\\nclass = 0'),\n",
              " Text(2871.9963453631794, 5932.142857142857, 'gini = 0.0\\nsamples = 9\\nvalue = [9, 0]\\nclass = 0'),\n",
              " Text(3143.9013248058473, 5932.142857142857, 'Fare <= 39.862\\ngini = 0.469\\nsamples = 128\\nvalue = [80, 48]\\nclass = 0'),\n",
              " Text(3007.948835084513, 5572.619047619048, 'Fare <= 35.25\\ngini = 0.475\\nsamples = 124\\nvalue = [76, 48]\\nclass = 0'),\n",
              " Text(2617.0854271356784, 5213.0952380952385, 'Fare <= 33.25\\ngini = 0.469\\nsamples = 120\\nvalue = [75, 45]\\nclass = 0'),\n",
              " Text(2481.1329374143443, 4853.571428571428, 'Fare <= 29.206\\ngini = 0.475\\nsamples = 116\\nvalue = [71, 45]\\nclass = 0'),\n",
              " Text(1835.358611238008, 4494.047619047619, 'Fare <= 26.775\\ngini = 0.459\\nsamples = 101\\nvalue = [65, 36]\\nclass = 0'),\n",
              " Text(1699.4061215166741, 4134.523809523809, 'Fare <= 26.144\\ngini = 0.471\\nsamples = 95\\nvalue = [59, 36]\\nclass = 0'),\n",
              " Text(1291.5486523526724, 3775.0, 'Pclass <= 1.5\\ngini = 0.452\\nsamples = 81\\nvalue = [53, 28]\\nclass = 0'),\n",
              " Text(1155.5961626313385, 3415.476190476191, 'gini = 0.0\\nsamples = 3\\nvalue = [3, 0]\\nclass = 0'),\n",
              " Text(1427.5011420740063, 3415.476190476191, 'Age_cat <= 3.5\\ngini = 0.46\\nsamples = 78\\nvalue = [50, 28]\\nclass = 0'),\n",
              " Text(1291.5486523526724, 3055.9523809523807, 'Age_cat <= 2.5\\ngini = 0.444\\nsamples = 75\\nvalue = [50, 25]\\nclass = 0'),\n",
              " Text(1155.5961626313385, 2696.4285714285716, 'Fare <= 12.762\\ngini = 0.45\\nsamples = 73\\nvalue = [48, 25]\\nclass = 0'),\n",
              " Text(407.8574691640018, 2336.9047619047624, 'Fare <= 12.587\\ngini = 0.484\\nsamples = 17\\nvalue = [10, 7]\\nclass = 0'),\n",
              " Text(271.90497944266787, 1977.3809523809523, 'Age_cat <= 1.5\\ngini = 0.469\\nsamples = 16\\nvalue = [10, 6]\\nclass = 0'),\n",
              " Text(135.95248972133393, 1617.8571428571431, 'gini = 0.0\\nsamples = 1\\nvalue = [0, 1]\\nclass = 1'),\n",
              " Text(407.8574691640018, 1617.8571428571431, 'Fare <= 11.0\\ngini = 0.444\\nsamples = 15\\nvalue = [10, 5]\\nclass = 0'),\n",
              " Text(271.90497944266787, 1258.333333333333, 'gini = 0.48\\nsamples = 10\\nvalue = [6, 4]\\nclass = 0'),\n",
              " Text(543.8099588853357, 1258.333333333333, 'Fare <= 11.925\\ngini = 0.32\\nsamples = 5\\nvalue = [4, 1]\\nclass = 0'),\n",
              " Text(407.8574691640018, 898.8095238095239, 'gini = 0.0\\nsamples = 2\\nvalue = [2, 0]\\nclass = 0'),\n",
              " Text(679.7624486066696, 898.8095238095239, 'Fare <= 12.438\\ngini = 0.444\\nsamples = 3\\nvalue = [2, 1]\\nclass = 0'),\n",
              " Text(543.8099588853357, 539.2857142857147, 'gini = 0.5\\nsamples = 2\\nvalue = [1, 1]\\nclass = 0'),\n",
              " Text(815.7149383280037, 539.2857142857147, 'gini = 0.0\\nsamples = 1\\nvalue = [1, 0]\\nclass = 0'),\n",
              " Text(543.8099588853357, 1977.3809523809523, 'gini = 0.0\\nsamples = 1\\nvalue = [0, 1]\\nclass = 1'),\n",
              " Text(1903.3348560986751, 2336.9047619047624, 'SibSp <= 0.5\\ngini = 0.436\\nsamples = 56\\nvalue = [38, 18]\\nclass = 0'),\n",
              " Text(1631.4298766560073, 1977.3809523809523, 'Fare <= 23.5\\ngini = 0.408\\nsamples = 42\\nvalue = [30, 12]\\nclass = 0'),\n",
              " Text(1495.4773869346732, 1617.8571428571431, 'Fare <= 15.5\\ngini = 0.438\\nsamples = 37\\nvalue = [25, 12]\\nclass = 0'),\n",
              " Text(1359.5248972133393, 1258.333333333333, 'Fare <= 13.75\\ngini = 0.408\\nsamples = 35\\nvalue = [25, 10]\\nclass = 0'),\n",
              " Text(1223.5724074920054, 898.8095238095239, 'Fare <= 12.938\\ngini = 0.422\\nsamples = 33\\nvalue = [23, 10]\\nclass = 0'),\n",
              " Text(1087.6199177706715, 539.2857142857147, 'gini = 0.0\\nsamples = 1\\nvalue = [1, 0]\\nclass = 0'),\n",
              " Text(1359.5248972133393, 539.2857142857147, 'Fare <= 13.25\\ngini = 0.43\\nsamples = 32\\nvalue = [22, 10]\\nclass = 0'),\n",
              " Text(1223.5724074920054, 179.7619047619046, 'gini = 0.436\\nsamples = 28\\nvalue = [19, 9]\\nclass = 0'),\n",
              " Text(1495.4773869346732, 179.7619047619046, 'gini = 0.375\\nsamples = 4\\nvalue = [3, 1]\\nclass = 0'),\n",
              " Text(1495.4773869346732, 898.8095238095239, 'gini = 0.0\\nsamples = 2\\nvalue = [2, 0]\\nclass = 0'),\n",
              " Text(1631.4298766560073, 1258.333333333333, 'gini = 0.0\\nsamples = 2\\nvalue = [0, 2]\\nclass = 1'),\n",
              " Text(1767.3823663773412, 1617.8571428571431, 'gini = 0.0\\nsamples = 5\\nvalue = [5, 0]\\nclass = 0'),\n",
              " Text(2175.239835541343, 1977.3809523809523, 'Fare <= 22.5\\ngini = 0.49\\nsamples = 14\\nvalue = [8, 6]\\nclass = 0'),\n",
              " Text(2039.287345820009, 1617.8571428571431, 'gini = 0.0\\nsamples = 2\\nvalue = [2, 0]\\nclass = 0'),\n",
              " Text(2311.192325262677, 1617.8571428571431, 'Fare <= 25.0\\ngini = 0.5\\nsamples = 12\\nvalue = [6, 6]\\nclass = 0'),\n",
              " Text(2175.239835541343, 1258.333333333333, 'gini = 0.5\\nsamples = 2\\nvalue = [1, 1]\\nclass = 0'),\n",
              " Text(2447.1448149840107, 1258.333333333333, 'gini = 0.5\\nsamples = 10\\nvalue = [5, 5]\\nclass = 0'),\n",
              " Text(1427.5011420740063, 2696.4285714285716, 'gini = 0.0\\nsamples = 2\\nvalue = [2, 0]\\nclass = 0'),\n",
              " Text(1563.4536317953402, 3055.9523809523807, 'gini = 0.0\\nsamples = 3\\nvalue = [0, 3]\\nclass = 1'),\n",
              " Text(2107.263590680676, 3775.0, 'Age_cat <= 2.5\\ngini = 0.49\\nsamples = 14\\nvalue = [6, 8]\\nclass = 1'),\n",
              " Text(1971.311100959342, 3415.476190476191, 'Fare <= 26.469\\ngini = 0.444\\nsamples = 12\\nvalue = [4, 8]\\nclass = 1'),\n",
              " Text(1835.358611238008, 3055.9523809523807, 'gini = 0.0\\nsamples = 3\\nvalue = [0, 3]\\nclass = 1'),\n",
              " Text(2107.263590680676, 3055.9523809523807, 'gini = 0.494\\nsamples = 9\\nvalue = [4, 5]\\nclass = 1'),\n",
              " Text(2243.21608040201, 3415.476190476191, 'gini = 0.0\\nsamples = 2\\nvalue = [2, 0]\\nclass = 0'),\n",
              " Text(1971.311100959342, 4134.523809523809, 'gini = 0.0\\nsamples = 6\\nvalue = [6, 0]\\nclass = 0'),\n",
              " Text(3126.9072635906805, 4494.047619047619, 'Age_cat <= 3.5\\ngini = 0.48\\nsamples = 15\\nvalue = [6, 9]\\nclass = 1'),\n",
              " Text(2855.0022841480127, 4134.523809523809, 'Fare <= 30.848\\ngini = 0.42\\nsamples = 10\\nvalue = [3, 7]\\nclass = 1'),\n",
              " Text(2719.0497944266785, 3775.0, 'Fare <= 30.598\\ngini = 0.469\\nsamples = 8\\nvalue = [3, 5]\\nclass = 1'),\n",
              " Text(2583.097304705345, 3415.476190476191, 'Pclass <= 1.5\\ngini = 0.408\\nsamples = 7\\nvalue = [2, 5]\\nclass = 1'),\n",
              " Text(2447.1448149840107, 3055.9523809523807, 'Age_cat <= 2.5\\ngini = 0.444\\nsamples = 6\\nvalue = [2, 4]\\nclass = 1'),\n",
              " Text(2311.192325262677, 2696.4285714285716, 'Fare <= 30.25\\ngini = 0.48\\nsamples = 5\\nvalue = [2, 3]\\nclass = 1'),\n",
              " Text(2175.239835541343, 2336.9047619047624, 'gini = 0.5\\nsamples = 2\\nvalue = [1, 1]\\nclass = 0'),\n",
              " Text(2447.1448149840107, 2336.9047619047624, 'gini = 0.444\\nsamples = 3\\nvalue = [1, 2]\\nclass = 1'),\n",
              " Text(2583.097304705345, 2696.4285714285716, 'gini = 0.0\\nsamples = 1\\nvalue = [0, 1]\\nclass = 1'),\n",
              " Text(2719.0497944266785, 3055.9523809523807, 'gini = 0.0\\nsamples = 1\\nvalue = [0, 1]\\nclass = 1'),\n",
              " Text(2855.0022841480127, 3415.476190476191, 'gini = 0.0\\nsamples = 1\\nvalue = [1, 0]\\nclass = 0'),\n",
              " Text(2990.9547738693464, 3775.0, 'gini = 0.0\\nsamples = 2\\nvalue = [0, 2]\\nclass = 1'),\n",
              " Text(3398.8122430333483, 4134.523809523809, 'Fare <= 29.885\\ngini = 0.48\\nsamples = 5\\nvalue = [3, 2]\\nclass = 0'),\n",
              " Text(3262.8597533120146, 3775.0, 'gini = 0.0\\nsamples = 1\\nvalue = [0, 1]\\nclass = 1'),\n",
              " Text(3534.7647327546824, 3775.0, 'Fare <= 32.0\\ngini = 0.375\\nsamples = 4\\nvalue = [3, 1]\\nclass = 0'),\n",
              " Text(3398.8122430333483, 3415.476190476191, 'gini = 0.0\\nsamples = 3\\nvalue = [3, 0]\\nclass = 0'),\n",
              " Text(3670.717222476016, 3415.476190476191, 'gini = 0.0\\nsamples = 1\\nvalue = [0, 1]\\nclass = 1'),\n",
              " Text(2753.037916857012, 4853.571428571428, 'gini = 0.0\\nsamples = 4\\nvalue = [4, 0]\\nclass = 0'),\n",
              " Text(3398.8122430333483, 5213.0952380952385, 'Fare <= 37.0\\ngini = 0.375\\nsamples = 4\\nvalue = [1, 3]\\nclass = 1'),\n",
              " Text(3262.8597533120146, 4853.571428571428, 'gini = 0.0\\nsamples = 2\\nvalue = [0, 2]\\nclass = 1'),\n",
              " Text(3534.7647327546824, 4853.571428571428, 'SibSp <= 0.5\\ngini = 0.5\\nsamples = 2\\nvalue = [1, 1]\\nclass = 0'),\n",
              " Text(3398.8122430333483, 4494.047619047619, 'gini = 0.0\\nsamples = 1\\nvalue = [1, 0]\\nclass = 0'),\n",
              " Text(3670.717222476016, 4494.047619047619, 'gini = 0.0\\nsamples = 1\\nvalue = [0, 1]\\nclass = 1'),\n",
              " Text(3279.853814527181, 5572.619047619048, 'gini = 0.0\\nsamples = 4\\nvalue = [4, 0]\\nclass = 0'),\n",
              " Text(4588.396528095021, 6291.666666666667, 'Pclass <= 1.5\\ngini = 0.379\\nsamples = 59\\nvalue = [15, 44]\\nclass = 1'),\n",
              " Text(4452.444038373686, 5932.142857142857, 'Fare <= 56.45\\ngini = 0.337\\nsamples = 56\\nvalue = [12, 44]\\nclass = 1'),\n",
              " Text(3806.6697121973502, 5572.619047619048, 'SibSp <= 0.5\\ngini = 0.48\\nsamples = 10\\nvalue = [4, 6]\\nclass = 1'),\n",
              " Text(3670.717222476016, 5213.0952380952385, 'gini = 0.0\\nsamples = 2\\nvalue = [2, 0]\\nclass = 0'),\n",
              " Text(3942.622201918684, 5213.0952380952385, 'Fare <= 52.827\\ngini = 0.375\\nsamples = 8\\nvalue = [2, 6]\\nclass = 1'),\n",
              " Text(3806.6697121973502, 4853.571428571428, 'gini = 0.0\\nsamples = 4\\nvalue = [0, 4]\\nclass = 1'),\n",
              " Text(4078.574691640018, 4853.571428571428, 'Fare <= 54.5\\ngini = 0.5\\nsamples = 4\\nvalue = [2, 2]\\nclass = 0'),\n",
              " Text(3942.622201918684, 4494.047619047619, 'gini = 0.5\\nsamples = 2\\nvalue = [1, 1]\\nclass = 0'),\n",
              " Text(4214.527181361352, 4494.047619047619, 'gini = 0.5\\nsamples = 2\\nvalue = [1, 1]\\nclass = 0'),\n",
              " Text(5098.218364550023, 5572.619047619048, 'Fare <= 79.025\\ngini = 0.287\\nsamples = 46\\nvalue = [8, 38]\\nclass = 1'),\n",
              " Text(4758.337140246687, 5213.0952380952385, 'Fare <= 67.95\\ngini = 0.117\\nsamples = 16\\nvalue = [1, 15]\\nclass = 1'),\n",
              " Text(4622.384650525354, 4853.571428571428, 'Fare <= 63.0\\ngini = 0.32\\nsamples = 5\\nvalue = [1, 4]\\nclass = 1'),\n",
              " Text(4486.43216080402, 4494.047619047619, 'gini = 0.0\\nsamples = 3\\nvalue = [0, 3]\\nclass = 1'),\n",
              " Text(4758.337140246687, 4494.047619047619, 'gini = 0.5\\nsamples = 2\\nvalue = [1, 1]\\nclass = 0'),\n",
              " Text(4894.2896299680215, 4853.571428571428, 'gini = 0.0\\nsamples = 11\\nvalue = [0, 11]\\nclass = 1'),\n",
              " Text(5438.099588853357, 5213.0952380952385, 'Fare <= 187.621\\ngini = 0.358\\nsamples = 30\\nvalue = [7, 23]\\nclass = 1'),\n",
              " Text(5166.19460941069, 4853.571428571428, 'Age_cat <= 3.0\\ngini = 0.32\\nsamples = 25\\nvalue = [5, 20]\\nclass = 1'),\n",
              " Text(5030.242119689356, 4494.047619047619, 'Fare <= 79.6\\ngini = 0.388\\nsamples = 19\\nvalue = [5, 14]\\nclass = 1'),\n",
              " Text(4894.2896299680215, 4134.523809523809, 'gini = 0.0\\nsamples = 1\\nvalue = [1, 0]\\nclass = 0'),\n",
              " Text(5166.19460941069, 4134.523809523809, 'SibSp <= 0.5\\ngini = 0.346\\nsamples = 18\\nvalue = [4, 14]\\nclass = 1'),\n",
              " Text(4758.337140246687, 3775.0, 'Fare <= 135.067\\ngini = 0.18\\nsamples = 10\\nvalue = [1, 9]\\nclass = 1'),\n",
              " Text(4622.384650525354, 3415.476190476191, 'gini = 0.0\\nsamples = 6\\nvalue = [0, 6]\\nclass = 1'),\n",
              " Text(4894.2896299680215, 3415.476190476191, 'Fare <= 144.548\\ngini = 0.375\\nsamples = 4\\nvalue = [1, 3]\\nclass = 1'),\n",
              " Text(4758.337140246687, 3055.9523809523807, 'gini = 0.444\\nsamples = 3\\nvalue = [1, 2]\\nclass = 1'),\n",
              " Text(5030.242119689356, 3055.9523809523807, 'gini = 0.0\\nsamples = 1\\nvalue = [0, 1]\\nclass = 1'),\n",
              " Text(5574.052078574691, 3775.0, 'Fare <= 111.088\\ngini = 0.469\\nsamples = 8\\nvalue = [3, 5]\\nclass = 1'),\n",
              " Text(5438.099588853357, 3415.476190476191, 'Fare <= 98.213\\ngini = 0.48\\nsamples = 5\\nvalue = [3, 2]\\nclass = 0'),\n",
              " Text(5302.147099132023, 3055.9523809523807, 'Fare <= 86.737\\ngini = 0.444\\nsamples = 3\\nvalue = [1, 2]\\nclass = 1'),\n",
              " Text(5166.19460941069, 2696.4285714285716, 'gini = 0.5\\nsamples = 2\\nvalue = [1, 1]\\nclass = 0'),\n",
              " Text(5438.099588853357, 2696.4285714285716, 'gini = 0.0\\nsamples = 1\\nvalue = [0, 1]\\nclass = 1'),\n",
              " Text(5574.052078574691, 3055.9523809523807, 'gini = 0.0\\nsamples = 2\\nvalue = [2, 0]\\nclass = 0'),\n",
              " Text(5710.004568296025, 3415.476190476191, 'gini = 0.0\\nsamples = 3\\nvalue = [0, 3]\\nclass = 1'),\n",
              " Text(5302.147099132023, 4494.047619047619, 'gini = 0.0\\nsamples = 6\\nvalue = [0, 6]\\nclass = 1'),\n",
              " Text(5710.004568296025, 4853.571428571428, 'Age_cat <= 3.0\\ngini = 0.48\\nsamples = 5\\nvalue = [2, 3]\\nclass = 1'),\n",
              " Text(5574.052078574691, 4494.047619047619, 'gini = 0.0\\nsamples = 3\\nvalue = [0, 3]\\nclass = 1'),\n",
              " Text(5845.9570580173595, 4494.047619047619, 'gini = 0.0\\nsamples = 2\\nvalue = [2, 0]\\nclass = 0'),\n",
              " Text(4724.349017816354, 5932.142857142857, 'gini = 0.0\\nsamples = 3\\nvalue = [3, 0]\\nclass = 0'),\n",
              " Text(7256.464138876198, 6651.190476190476, 'Fare <= 59.679\\ngini = 0.354\\nsamples = 74\\nvalue = [17, 57]\\nclass = 1'),\n",
              " Text(6593.695751484695, 6291.666666666667, 'Age_cat <= 1.5\\ngini = 0.219\\nsamples = 40\\nvalue = [5, 35]\\nclass = 1'),\n",
              " Text(6457.743261763362, 5932.142857142857, 'gini = 0.0\\nsamples = 12\\nvalue = [0, 12]\\nclass = 1'),\n",
              " Text(6729.6482412060295, 5932.142857142857, 'Fare <= 24.5\\ngini = 0.293\\nsamples = 28\\nvalue = [5, 23]\\nclass = 1'),\n",
              " Text(6593.695751484695, 5572.619047619048, 'gini = 0.0\\nsamples = 7\\nvalue = [0, 7]\\nclass = 1'),\n",
              " Text(6865.600730927364, 5572.619047619048, 'Fare <= 45.54\\ngini = 0.363\\nsamples = 21\\nvalue = [5, 16]\\nclass = 1'),\n",
              " Text(6729.6482412060295, 5213.0952380952385, 'Fare <= 34.625\\ngini = 0.415\\nsamples = 17\\nvalue = [5, 12]\\nclass = 1'),\n",
              " Text(6389.767016902695, 4853.571428571428, 'Pclass <= 1.5\\ngini = 0.355\\nsamples = 13\\nvalue = [3, 10]\\nclass = 1'),\n",
              " Text(6117.862037460027, 4494.047619047619, 'Parch <= 1.5\\ngini = 0.5\\nsamples = 2\\nvalue = [1, 1]\\nclass = 0'),\n",
              " Text(5981.909547738693, 4134.523809523809, 'gini = 0.0\\nsamples = 1\\nvalue = [1, 0]\\nclass = 0'),\n",
              " Text(6253.814527181361, 4134.523809523809, 'gini = 0.0\\nsamples = 1\\nvalue = [0, 1]\\nclass = 1'),\n",
              " Text(6661.6719963453625, 4494.047619047619, 'Fare <= 28.375\\ngini = 0.298\\nsamples = 11\\nvalue = [2, 9]\\nclass = 1'),\n",
              " Text(6525.719506624029, 4134.523809523809, 'SibSp <= 0.5\\ngini = 0.408\\nsamples = 7\\nvalue = [2, 5]\\nclass = 1'),\n",
              " Text(6389.767016902695, 3775.0, 'gini = 0.0\\nsamples = 2\\nvalue = [0, 2]\\nclass = 1'),\n",
              " Text(6661.6719963453625, 3775.0, 'Fare <= 26.125\\ngini = 0.48\\nsamples = 5\\nvalue = [2, 3]\\nclass = 1'),\n",
              " Text(6525.719506624029, 3415.476190476191, 'gini = 0.0\\nsamples = 1\\nvalue = [1, 0]\\nclass = 0'),\n",
              " Text(6797.624486066697, 3415.476190476191, 'Fare <= 27.0\\ngini = 0.375\\nsamples = 4\\nvalue = [1, 3]\\nclass = 1'),\n",
              " Text(6661.6719963453625, 3055.9523809523807, 'gini = 0.0\\nsamples = 2\\nvalue = [0, 2]\\nclass = 1'),\n",
              " Text(6933.576975788031, 3055.9523809523807, 'gini = 0.5\\nsamples = 2\\nvalue = [1, 1]\\nclass = 0'),\n",
              " Text(6797.624486066697, 4134.523809523809, 'gini = 0.0\\nsamples = 4\\nvalue = [0, 4]\\nclass = 1'),\n",
              " Text(7069.529465509365, 4853.571428571428, 'Fare <= 37.875\\ngini = 0.5\\nsamples = 4\\nvalue = [2, 2]\\nclass = 0'),\n",
              " Text(6933.576975788031, 4494.047619047619, 'gini = 0.0\\nsamples = 1\\nvalue = [1, 0]\\nclass = 0'),\n",
              " Text(7205.481955230698, 4494.047619047619, 'Fare <= 40.29\\ngini = 0.444\\nsamples = 3\\nvalue = [1, 2]\\nclass = 1'),\n",
              " Text(7069.529465509365, 4134.523809523809, 'gini = 0.0\\nsamples = 1\\nvalue = [0, 1]\\nclass = 1'),\n",
              " Text(7341.434444952032, 4134.523809523809, 'gini = 0.5\\nsamples = 2\\nvalue = [1, 1]\\nclass = 0'),\n",
              " Text(7001.553220648698, 5213.0952380952385, 'gini = 0.0\\nsamples = 4\\nvalue = [0, 4]\\nclass = 1'),\n",
              " Text(7919.232526267701, 6291.666666666667, 'Fare <= 62.669\\ngini = 0.457\\nsamples = 34\\nvalue = [12, 22]\\nclass = 1'),\n",
              " Text(7783.280036546367, 5932.142857142857, 'gini = 0.0\\nsamples = 2\\nvalue = [2, 0]\\nclass = 0'),\n",
              " Text(8055.1850159890355, 5932.142857142857, 'Parch <= 3.0\\ngini = 0.43\\nsamples = 32\\nvalue = [10, 22]\\nclass = 1'),\n",
              " Text(7919.232526267701, 5572.619047619048, 'Fare <= 68.0\\ngini = 0.412\\nsamples = 31\\nvalue = [9, 22]\\nclass = 1'),\n",
              " Text(7783.280036546367, 5213.0952380952385, 'gini = 0.0\\nsamples = 3\\nvalue = [0, 3]\\nclass = 1'),\n",
              " Text(8055.1850159890355, 5213.0952380952385, 'Fare <= 78.244\\ngini = 0.436\\nsamples = 28\\nvalue = [9, 19]\\nclass = 1'),\n",
              " Text(7613.3394243947005, 4853.571428571428, 'Parch <= 1.5\\ngini = 0.375\\nsamples = 4\\nvalue = [3, 1]\\nclass = 0'),\n",
              " Text(7477.386934673366, 4494.047619047619, 'gini = 0.0\\nsamples = 3\\nvalue = [3, 0]\\nclass = 0'),\n",
              " Text(7749.291914116035, 4494.047619047619, 'gini = 0.0\\nsamples = 1\\nvalue = [0, 1]\\nclass = 1'),\n",
              " Text(8497.03060758337, 4853.571428571428, 'Fare <= 143.025\\ngini = 0.375\\nsamples = 24\\nvalue = [6, 18]\\nclass = 1'),\n",
              " Text(8021.196893558702, 4494.047619047619, 'Fare <= 102.192\\ngini = 0.165\\nsamples = 11\\nvalue = [1, 10]\\nclass = 1'),\n",
              " Text(7885.244403837368, 4134.523809523809, 'gini = 0.0\\nsamples = 6\\nvalue = [0, 6]\\nclass = 1'),\n",
              " Text(8157.149383280036, 4134.523809523809, 'Fare <= 115.442\\ngini = 0.32\\nsamples = 5\\nvalue = [1, 4]\\nclass = 1'),\n",
              " Text(8021.196893558702, 3775.0, 'gini = 0.5\\nsamples = 2\\nvalue = [1, 1]\\nclass = 0'),\n",
              " Text(8293.10187300137, 3775.0, 'gini = 0.0\\nsamples = 3\\nvalue = [0, 3]\\nclass = 1'),\n",
              " Text(8972.86432160804, 4494.047619047619, 'Fare <= 159.165\\ngini = 0.473\\nsamples = 13\\nvalue = [5, 8]\\nclass = 1'),\n",
              " Text(8700.959342165372, 4134.523809523809, 'Age_cat <= 3.0\\ngini = 0.444\\nsamples = 3\\nvalue = [2, 1]\\nclass = 0'),\n",
              " Text(8565.006852444038, 3775.0, 'gini = 0.0\\nsamples = 2\\nvalue = [2, 0]\\nclass = 0'),\n",
              " Text(8836.911831886706, 3775.0, 'gini = 0.0\\nsamples = 1\\nvalue = [0, 1]\\nclass = 1'),\n",
              " Text(9244.769301050708, 4134.523809523809, 'Fare <= 211.419\\ngini = 0.42\\nsamples = 10\\nvalue = [3, 7]\\nclass = 1'),\n",
              " Text(9108.816811329374, 3775.0, 'gini = 0.0\\nsamples = 3\\nvalue = [0, 3]\\nclass = 1'),\n",
              " Text(9380.72179077204, 3775.0, 'Fare <= 229.51\\ngini = 0.49\\nsamples = 7\\nvalue = [3, 4]\\nclass = 1'),\n",
              " Text(9244.769301050708, 3415.476190476191, 'gini = 0.0\\nsamples = 1\\nvalue = [1, 0]\\nclass = 0'),\n",
              " Text(9516.674280493375, 3415.476190476191, 'Fare <= 387.665\\ngini = 0.444\\nsamples = 6\\nvalue = [2, 4]\\nclass = 1'),\n",
              " Text(9380.72179077204, 3055.9523809523807, 'Parch <= 1.5\\ngini = 0.48\\nsamples = 5\\nvalue = [2, 3]\\nclass = 1'),\n",
              " Text(9244.769301050708, 2696.4285714285716, 'gini = 0.5\\nsamples = 2\\nvalue = [1, 1]\\nclass = 0'),\n",
              " Text(9516.674280493375, 2696.4285714285716, 'gini = 0.444\\nsamples = 3\\nvalue = [1, 2]\\nclass = 1'),\n",
              " Text(9652.626770214709, 3055.9523809523807, 'gini = 0.0\\nsamples = 1\\nvalue = [0, 1]\\nclass = 1'),\n",
              " Text(8191.13750571037, 5572.619047619048, 'gini = 0.0\\nsamples = 1\\nvalue = [1, 0]\\nclass = 0'),\n",
              " Text(13138.002512562813, 7010.714285714286, 'Age_cat <= 1.5\\ngini = 0.344\\nsamples = 353\\nvalue = [275, 78]\\nclass = 0'),\n",
              " Text(10604.294198264046, 6651.190476190476, 'Fare <= 20.825\\ngini = 0.47\\nsamples = 53\\nvalue = [33, 20]\\nclass = 0'),\n",
              " Text(10060.484239378711, 6291.666666666667, 'Fare <= 10.317\\ngini = 0.487\\nsamples = 31\\nvalue = [13, 18]\\nclass = 1'),\n",
              " Text(9788.579259936043, 5932.142857142857, 'Fare <= 8.356\\ngini = 0.469\\nsamples = 16\\nvalue = [10, 6]\\nclass = 0'),\n",
              " Text(9652.626770214709, 5572.619047619048, 'Fare <= 7.89\\ngini = 0.496\\nsamples = 11\\nvalue = [5, 6]\\nclass = 1'),\n",
              " Text(9516.674280493375, 5213.0952380952385, 'SibSp <= 0.5\\ngini = 0.469\\nsamples = 8\\nvalue = [5, 3]\\nclass = 0'),\n",
              " Text(9380.72179077204, 4853.571428571428, 'Fare <= 7.763\\ngini = 0.48\\nsamples = 5\\nvalue = [2, 3]\\nclass = 1'),\n",
              " Text(9244.769301050708, 4494.047619047619, 'gini = 0.0\\nsamples = 3\\nvalue = [0, 3]\\nclass = 1'),\n",
              " Text(9516.674280493375, 4494.047619047619, 'gini = 0.0\\nsamples = 2\\nvalue = [2, 0]\\nclass = 0'),\n",
              " Text(9652.626770214709, 4853.571428571428, 'gini = 0.0\\nsamples = 3\\nvalue = [3, 0]\\nclass = 0'),\n",
              " Text(9788.579259936043, 5213.0952380952385, 'gini = 0.0\\nsamples = 3\\nvalue = [0, 3]\\nclass = 1'),\n",
              " Text(9924.531749657377, 5572.619047619048, 'gini = 0.0\\nsamples = 5\\nvalue = [5, 0]\\nclass = 0'),\n",
              " Text(10332.38921882138, 5932.142857142857, 'SibSp <= 1.5\\ngini = 0.32\\nsamples = 15\\nvalue = [3, 12]\\nclass = 1'),\n",
              " Text(10196.436729100045, 5572.619047619048, 'Fare <= 13.938\\ngini = 0.245\\nsamples = 14\\nvalue = [2, 12]\\nclass = 1'),\n",
              " Text(10060.484239378711, 5213.0952380952385, 'gini = 0.0\\nsamples = 6\\nvalue = [0, 6]\\nclass = 1'),\n",
              " Text(10332.38921882138, 5213.0952380952385, 'Fare <= 15.1\\ngini = 0.375\\nsamples = 8\\nvalue = [2, 6]\\nclass = 1'),\n",
              " Text(10196.436729100045, 4853.571428571428, 'gini = 0.0\\nsamples = 1\\nvalue = [1, 0]\\nclass = 0'),\n",
              " Text(10468.341708542714, 4853.571428571428, 'Fare <= 18.475\\ngini = 0.245\\nsamples = 7\\nvalue = [1, 6]\\nclass = 1'),\n",
              " Text(10332.38921882138, 4494.047619047619, 'gini = 0.0\\nsamples = 4\\nvalue = [0, 4]\\nclass = 1'),\n",
              " Text(10604.294198264046, 4494.047619047619, 'Parch <= 1.5\\ngini = 0.444\\nsamples = 3\\nvalue = [1, 2]\\nclass = 1'),\n",
              " Text(10468.341708542714, 4134.523809523809, 'gini = 0.0\\nsamples = 1\\nvalue = [1, 0]\\nclass = 0'),\n",
              " Text(10740.24668798538, 4134.523809523809, 'gini = 0.0\\nsamples = 2\\nvalue = [0, 2]\\nclass = 1'),\n",
              " Text(10468.341708542714, 5572.619047619048, 'gini = 0.0\\nsamples = 1\\nvalue = [1, 0]\\nclass = 0'),\n",
              " Text(11148.104157149382, 6291.666666666667, 'SibSp <= 0.5\\ngini = 0.165\\nsamples = 22\\nvalue = [20, 2]\\nclass = 0'),\n",
              " Text(10876.199177706714, 5932.142857142857, 'Fare <= 23.087\\ngini = 0.5\\nsamples = 2\\nvalue = [1, 1]\\nclass = 0'),\n",
              " Text(10740.24668798538, 5572.619047619048, 'gini = 0.0\\nsamples = 1\\nvalue = [0, 1]\\nclass = 1'),\n",
              " Text(11012.151667428048, 5572.619047619048, 'gini = 0.0\\nsamples = 1\\nvalue = [1, 0]\\nclass = 0'),\n",
              " Text(11420.00913659205, 5932.142857142857, 'Fare <= 31.331\\ngini = 0.095\\nsamples = 20\\nvalue = [19, 1]\\nclass = 0'),\n",
              " Text(11284.056646870717, 5572.619047619048, 'gini = 0.0\\nsamples = 10\\nvalue = [10, 0]\\nclass = 0'),\n",
              " Text(11555.961626313385, 5572.619047619048, 'Fare <= 32.881\\ngini = 0.18\\nsamples = 10\\nvalue = [9, 1]\\nclass = 0'),\n",
              " Text(11420.00913659205, 5213.0952380952385, 'gini = 0.5\\nsamples = 2\\nvalue = [1, 1]\\nclass = 0'),\n",
              " Text(11691.914116034719, 5213.0952380952385, 'gini = 0.0\\nsamples = 8\\nvalue = [8, 0]\\nclass = 0'),\n",
              " Text(15671.71082686158, 6651.190476190476, 'Fare <= 15.173\\ngini = 0.312\\nsamples = 300\\nvalue = [242, 58]\\nclass = 0'),\n",
              " Text(14102.9465509365, 6291.666666666667, 'Fare <= 7.883\\ngini = 0.284\\nsamples = 239\\nvalue = [198, 41]\\nclass = 0'),\n",
              " Text(13072.681589767017, 5932.142857142857, 'Fare <= 7.867\\ngini = 0.344\\nsamples = 118\\nvalue = [92, 26]\\nclass = 0'),\n",
              " Text(12936.729100045683, 5572.619047619048, 'Fare <= 7.781\\ngini = 0.311\\nsamples = 114\\nvalue = [92, 22]\\nclass = 0'),\n",
              " Text(11963.819095477385, 5213.0952380952385, 'Fare <= 7.763\\ngini = 0.266\\nsamples = 95\\nvalue = [80, 15]\\nclass = 0'),\n",
              " Text(11827.866605756051, 4853.571428571428, 'Fare <= 7.133\\ngini = 0.293\\nsamples = 84\\nvalue = [69, 15]\\nclass = 0'),\n",
              " Text(11258.565555047966, 4494.047619047619, 'Fare <= 2.006\\ngini = 0.172\\nsamples = 21\\nvalue = [19, 2]\\nclass = 0'),\n",
              " Text(11122.613065326632, 4134.523809523809, 'gini = 0.444\\nsamples = 3\\nvalue = [2, 1]\\nclass = 0'),\n",
              " Text(11394.5180447693, 4134.523809523809, 'Fare <= 7.01\\ngini = 0.105\\nsamples = 18\\nvalue = [17, 1]\\nclass = 0'),\n",
              " Text(11258.565555047966, 3775.0, 'Fare <= 6.962\\ngini = 0.219\\nsamples = 8\\nvalue = [7, 1]\\nclass = 0'),\n",
              " Text(11122.613065326632, 3415.476190476191, 'gini = 0.0\\nsamples = 6\\nvalue = [6, 0]\\nclass = 0'),\n",
              " Text(11394.5180447693, 3415.476190476191, 'gini = 0.5\\nsamples = 2\\nvalue = [1, 1]\\nclass = 0'),\n",
              " Text(11530.470534490634, 3775.0, 'gini = 0.0\\nsamples = 10\\nvalue = [10, 0]\\nclass = 0'),\n",
              " Text(12397.167656464138, 4494.047619047619, 'Fare <= 7.183\\ngini = 0.328\\nsamples = 63\\nvalue = [50, 13]\\nclass = 0'),\n",
              " Text(12261.215166742804, 4134.523809523809, 'gini = 0.0\\nsamples = 1\\nvalue = [0, 1]\\nclass = 1'),\n",
              " Text(12533.120146185473, 4134.523809523809, 'Fare <= 7.24\\ngini = 0.312\\nsamples = 62\\nvalue = [50, 12]\\nclass = 0'),\n",
              " Text(11938.328003654637, 3775.0, 'Age_cat <= 3.0\\ngini = 0.391\\nsamples = 15\\nvalue = [11, 4]\\nclass = 0'),\n",
              " Text(11666.423024211968, 3415.476190476191, 'Fare <= 7.227\\ngini = 0.48\\nsamples = 5\\nvalue = [3, 2]\\nclass = 0'),\n",
              " Text(11530.470534490634, 3055.9523809523807, 'gini = 0.444\\nsamples = 3\\nvalue = [2, 1]\\nclass = 0'),\n",
              " Text(11802.375513933302, 3055.9523809523807, 'gini = 0.5\\nsamples = 2\\nvalue = [1, 1]\\nclass = 0'),\n",
              " Text(12210.232983097303, 3415.476190476191, 'Fare <= 7.227\\ngini = 0.32\\nsamples = 10\\nvalue = [8, 2]\\nclass = 0'),\n",
              " Text(12074.28049337597, 3055.9523809523807, 'gini = 0.0\\nsamples = 3\\nvalue = [3, 0]\\nclass = 0'),\n",
              " Text(12346.185472818637, 3055.9523809523807, 'gini = 0.408\\nsamples = 7\\nvalue = [5, 2]\\nclass = 0'),\n",
              " Text(13127.912288716308, 3775.0, 'Fare <= 7.731\\ngini = 0.282\\nsamples = 47\\nvalue = [39, 8]\\nclass = 0'),\n",
              " Text(12754.04294198264, 3415.476190476191, 'Age_cat <= 3.0\\ngini = 0.165\\nsamples = 22\\nvalue = [20, 2]\\nclass = 0'),\n",
              " Text(12618.090452261305, 3055.9523809523807, 'Fare <= 7.508\\ngini = 0.26\\nsamples = 13\\nvalue = [11, 2]\\nclass = 0'),\n",
              " Text(12482.137962539971, 2696.4285714285716, 'Fare <= 7.373\\ngini = 0.346\\nsamples = 9\\nvalue = [7, 2]\\nclass = 0'),\n",
              " Text(12346.185472818637, 2336.9047619047624, 'gini = 0.278\\nsamples = 6\\nvalue = [5, 1]\\nclass = 0'),\n",
              " Text(12618.090452261305, 2336.9047619047624, 'gini = 0.444\\nsamples = 3\\nvalue = [2, 1]\\nclass = 0'),\n",
              " Text(12754.04294198264, 2696.4285714285716, 'gini = 0.0\\nsamples = 4\\nvalue = [4, 0]\\nclass = 0'),\n",
              " Text(12889.995431703974, 3055.9523809523807, 'gini = 0.0\\nsamples = 9\\nvalue = [9, 0]\\nclass = 0'),\n",
              " Text(13501.781635449976, 3415.476190476191, 'Fare <= 7.744\\ngini = 0.365\\nsamples = 25\\nvalue = [19, 6]\\nclass = 0'),\n",
              " Text(13161.900411146642, 3055.9523809523807, 'Fare <= 7.735\\ngini = 0.444\\nsamples = 3\\nvalue = [1, 2]\\nclass = 1'),\n",
              " Text(13025.947921425308, 2696.4285714285716, 'gini = 0.0\\nsamples = 1\\nvalue = [0, 1]\\nclass = 1'),\n",
              " Text(13297.852900867976, 2696.4285714285716, 'gini = 0.5\\nsamples = 2\\nvalue = [1, 1]\\nclass = 0'),\n",
              " Text(13841.66285975331, 3055.9523809523807, 'Age_cat <= 3.5\\ngini = 0.298\\nsamples = 22\\nvalue = [18, 4]\\nclass = 0'),\n",
              " Text(13569.757880310643, 2696.4285714285716, 'Age_cat <= 2.5\\ngini = 0.219\\nsamples = 8\\nvalue = [7, 1]\\nclass = 0'),\n",
              " Text(13433.805390589308, 2336.9047619047624, 'gini = 0.245\\nsamples = 7\\nvalue = [6, 1]\\nclass = 0'),\n",
              " Text(13705.710370031977, 2336.9047619047624, 'gini = 0.0\\nsamples = 1\\nvalue = [1, 0]\\nclass = 0'),\n",
              " Text(14113.56783919598, 2696.4285714285716, 'SibSp <= 0.5\\ngini = 0.337\\nsamples = 14\\nvalue = [11, 3]\\nclass = 0'),\n",
              " Text(13977.615349474645, 2336.9047619047624, 'gini = 0.355\\nsamples = 13\\nvalue = [10, 3]\\nclass = 0'),\n",
              " Text(14249.520328917313, 2336.9047619047624, 'gini = 0.0\\nsamples = 1\\nvalue = [1, 0]\\nclass = 0'),\n",
              " Text(12099.77158519872, 4853.571428571428, 'gini = 0.0\\nsamples = 11\\nvalue = [11, 0]\\nclass = 0'),\n",
              " Text(13909.639104613978, 5213.0952380952385, 'Fare <= 7.792\\ngini = 0.465\\nsamples = 19\\nvalue = [12, 7]\\nclass = 0'),\n",
              " Text(13773.686614892644, 4853.571428571428, 'gini = 0.0\\nsamples = 1\\nvalue = [0, 1]\\nclass = 1'),\n",
              " Text(14045.591594335312, 4853.571428571428, 'SibSp <= 0.5\\ngini = 0.444\\nsamples = 18\\nvalue = [12, 6]\\nclass = 0'),\n",
              " Text(13909.639104613978, 4494.047619047619, 'Age_cat <= 3.0\\ngini = 0.43\\nsamples = 16\\nvalue = [11, 5]\\nclass = 0'),\n",
              " Text(13773.686614892644, 4134.523809523809, 'Fare <= 7.798\\ngini = 0.408\\nsamples = 14\\nvalue = [10, 4]\\nclass = 0'),\n",
              " Text(13637.73412517131, 3775.0, 'gini = 0.444\\nsamples = 6\\nvalue = [4, 2]\\nclass = 0'),\n",
              " Text(13909.639104613978, 3775.0, 'Fare <= 7.827\\ngini = 0.375\\nsamples = 8\\nvalue = [6, 2]\\nclass = 0'),\n",
              " Text(13773.686614892644, 3415.476190476191, 'gini = 0.0\\nsamples = 1\\nvalue = [1, 0]\\nclass = 0'),\n",
              " Text(14045.591594335312, 3415.476190476191, 'gini = 0.408\\nsamples = 7\\nvalue = [5, 2]\\nclass = 0'),\n",
              " Text(14045.591594335312, 4134.523809523809, 'gini = 0.5\\nsamples = 2\\nvalue = [1, 1]\\nclass = 0'),\n",
              " Text(14181.544084056646, 4494.047619047619, 'gini = 0.5\\nsamples = 2\\nvalue = [1, 1]\\nclass = 0'),\n",
              " Text(13208.634079488349, 5572.619047619048, 'gini = 0.0\\nsamples = 4\\nvalue = [0, 4]\\nclass = 1'),\n",
              " Text(15133.211512105983, 5932.142857142857, 'Age_cat <= 3.0\\ngini = 0.217\\nsamples = 121\\nvalue = [106, 15]\\nclass = 0'),\n",
              " Text(14793.330287802648, 5572.619047619048, 'Fare <= 7.91\\ngini = 0.263\\nsamples = 90\\nvalue = [76, 14]\\nclass = 0'),\n",
              " Text(14521.425308359981, 5213.0952380952385, 'Fare <= 7.892\\ngini = 0.105\\nsamples = 18\\nvalue = [17, 1]\\nclass = 0'),\n",
              " Text(14385.472818638647, 4853.571428571428, 'gini = 0.0\\nsamples = 1\\nvalue = [1, 0]\\nclass = 0'),\n",
              " Text(14657.377798081314, 4853.571428571428, 'gini = 0.111\\nsamples = 17\\nvalue = [16, 1]\\nclass = 0'),\n",
              " Text(15065.235267245316, 5213.0952380952385, 'Fare <= 13.292\\ngini = 0.296\\nsamples = 72\\nvalue = [59, 13]\\nclass = 0'),\n",
              " Text(14929.282777523982, 4853.571428571428, 'Fare <= 11.469\\ngini = 0.32\\nsamples = 65\\nvalue = [52, 13]\\nclass = 0'),\n",
              " Text(14793.330287802648, 4494.047619047619, 'Fare <= 7.988\\ngini = 0.288\\nsamples = 63\\nvalue = [52, 11]\\nclass = 0'),\n",
              " Text(14317.49657377798, 4134.523809523809, 'SibSp <= 0.5\\ngini = 0.42\\nsamples = 10\\nvalue = [7, 3]\\nclass = 0'),\n",
              " Text(14181.544084056646, 3775.0, 'gini = 0.375\\nsamples = 8\\nvalue = [6, 2]\\nclass = 0'),\n",
              " Text(14453.449063499314, 3775.0, 'SibSp <= 1.5\\ngini = 0.5\\nsamples = 2\\nvalue = [1, 1]\\nclass = 0'),\n",
              " Text(14317.49657377798, 3415.476190476191, 'gini = 0.0\\nsamples = 1\\nvalue = [0, 1]\\nclass = 1'),\n",
              " Text(14589.401553220649, 3415.476190476191, 'gini = 0.0\\nsamples = 1\\nvalue = [1, 0]\\nclass = 0'),\n",
              " Text(15269.164001827317, 4134.523809523809, 'Fare <= 9.288\\ngini = 0.256\\nsamples = 53\\nvalue = [45, 8]\\nclass = 0'),\n",
              " Text(14997.25902238465, 3775.0, 'Fare <= 8.104\\ngini = 0.198\\nsamples = 36\\nvalue = [32, 4]\\nclass = 0'),\n",
              " Text(14861.306532663315, 3415.476190476191, 'gini = 0.298\\nsamples = 22\\nvalue = [18, 4]\\nclass = 0'),\n",
              " Text(15133.211512105983, 3415.476190476191, 'gini = 0.0\\nsamples = 14\\nvalue = [14, 0]\\nclass = 0'),\n",
              " Text(15541.068981269986, 3775.0, 'SibSp <= 0.5\\ngini = 0.36\\nsamples = 17\\nvalue = [13, 4]\\nclass = 0'),\n",
              " Text(15405.116491548652, 3415.476190476191, 'Parch <= 0.5\\ngini = 0.426\\nsamples = 13\\nvalue = [9, 4]\\nclass = 0'),\n",
              " Text(15269.164001827317, 3055.9523809523807, 'Fare <= 9.844\\ngini = 0.375\\nsamples = 12\\nvalue = [9, 3]\\nclass = 0'),\n",
              " Text(15133.211512105983, 2696.4285714285716, 'Fare <= 9.84\\ngini = 0.42\\nsamples = 10\\nvalue = [7, 3]\\nclass = 0'),\n",
              " Text(14997.25902238465, 2336.9047619047624, 'Fare <= 9.425\\ngini = 0.346\\nsamples = 9\\nvalue = [7, 2]\\nclass = 0'),\n",
              " Text(14861.306532663315, 1977.3809523809523, 'gini = 0.0\\nsamples = 1\\nvalue = [1, 0]\\nclass = 0'),\n",
              " Text(15133.211512105983, 1977.3809523809523, 'Fare <= 9.712\\ngini = 0.375\\nsamples = 8\\nvalue = [6, 2]\\nclass = 0'),\n",
              " Text(14997.25902238465, 1617.8571428571431, 'Fare <= 9.544\\ngini = 0.408\\nsamples = 7\\nvalue = [5, 2]\\nclass = 0'),\n",
              " Text(14861.306532663315, 1258.333333333333, 'gini = 0.32\\nsamples = 5\\nvalue = [4, 1]\\nclass = 0'),\n",
              " Text(15133.211512105983, 1258.333333333333, 'gini = 0.5\\nsamples = 2\\nvalue = [1, 1]\\nclass = 0'),\n",
              " Text(15269.164001827317, 1617.8571428571431, 'gini = 0.0\\nsamples = 1\\nvalue = [1, 0]\\nclass = 0'),\n",
              " Text(15269.164001827317, 2336.9047619047624, 'gini = 0.0\\nsamples = 1\\nvalue = [0, 1]\\nclass = 1'),\n",
              " Text(15405.116491548652, 2696.4285714285716, 'gini = 0.0\\nsamples = 2\\nvalue = [2, 0]\\nclass = 0'),\n",
              " Text(15541.068981269986, 3055.9523809523807, 'gini = 0.0\\nsamples = 1\\nvalue = [0, 1]\\nclass = 1'),\n",
              " Text(15677.02147099132, 3415.476190476191, 'gini = 0.0\\nsamples = 4\\nvalue = [4, 0]\\nclass = 0'),\n",
              " Text(15065.235267245316, 4494.047619047619, 'gini = 0.0\\nsamples = 2\\nvalue = [0, 2]\\nclass = 1'),\n",
              " Text(15201.18775696665, 4853.571428571428, 'gini = 0.0\\nsamples = 7\\nvalue = [7, 0]\\nclass = 0'),\n",
              " Text(15473.092736409319, 5572.619047619048, 'Fare <= 8.081\\ngini = 0.062\\nsamples = 31\\nvalue = [30, 1]\\nclass = 0'),\n",
              " Text(15337.140246687984, 5213.0952380952385, 'gini = 0.0\\nsamples = 22\\nvalue = [22, 0]\\nclass = 0'),\n",
              " Text(15609.045226130653, 5213.0952380952385, 'Fare <= 8.285\\ngini = 0.198\\nsamples = 9\\nvalue = [8, 1]\\nclass = 0'),\n",
              " Text(15473.092736409319, 4853.571428571428, 'gini = 0.0\\nsamples = 1\\nvalue = [0, 1]\\nclass = 1'),\n",
              " Text(15744.997715851987, 4853.571428571428, 'gini = 0.0\\nsamples = 8\\nvalue = [8, 0]\\nclass = 0'),\n",
              " Text(17240.47510278666, 6291.666666666667, 'Fare <= 23.35\\ngini = 0.402\\nsamples = 61\\nvalue = [44, 17]\\nclass = 0'),\n",
              " Text(16560.712654179988, 5932.142857142857, 'Age_cat <= 3.0\\ngini = 0.465\\nsamples = 38\\nvalue = [24, 14]\\nclass = 0'),\n",
              " Text(16016.902695294653, 5572.619047619048, 'Fare <= 16.4\\ngini = 0.351\\nsamples = 22\\nvalue = [17, 5]\\nclass = 0'),\n",
              " Text(15880.95020557332, 5213.0952380952385, 'gini = 0.0\\nsamples = 8\\nvalue = [8, 0]\\nclass = 0'),\n",
              " Text(16152.855185015987, 5213.0952380952385, 'Fare <= 17.6\\ngini = 0.459\\nsamples = 14\\nvalue = [9, 5]\\nclass = 0'),\n",
              " Text(16016.902695294653, 4853.571428571428, 'gini = 0.0\\nsamples = 2\\nvalue = [0, 2]\\nclass = 1'),\n",
              " Text(16288.807674737322, 4853.571428571428, 'Parch <= 0.5\\ngini = 0.375\\nsamples = 12\\nvalue = [9, 3]\\nclass = 0'),\n",
              " Text(16152.855185015987, 4494.047619047619, 'gini = 0.0\\nsamples = 4\\nvalue = [4, 0]\\nclass = 0'),\n",
              " Text(16424.760164458658, 4494.047619047619, 'Fare <= 19.735\\ngini = 0.469\\nsamples = 8\\nvalue = [5, 3]\\nclass = 0'),\n",
              " Text(16288.807674737322, 4134.523809523809, 'gini = 0.0\\nsamples = 1\\nvalue = [0, 1]\\nclass = 1'),\n",
              " Text(16560.712654179988, 4134.523809523809, 'Parch <= 1.5\\ngini = 0.408\\nsamples = 7\\nvalue = [5, 2]\\nclass = 0'),\n",
              " Text(16424.760164458658, 3775.0, 'Fare <= 20.231\\ngini = 0.5\\nsamples = 4\\nvalue = [2, 2]\\nclass = 0'),\n",
              " Text(16288.807674737322, 3415.476190476191, 'gini = 0.0\\nsamples = 1\\nvalue = [1, 0]\\nclass = 0'),\n",
              " Text(16560.712654179988, 3415.476190476191, 'Fare <= 20.387\\ngini = 0.444\\nsamples = 3\\nvalue = [1, 2]\\nclass = 1'),\n",
              " Text(16424.760164458658, 3055.9523809523807, 'gini = 0.0\\nsamples = 1\\nvalue = [0, 1]\\nclass = 1'),\n",
              " Text(16696.665143901322, 3055.9523809523807, 'gini = 0.5\\nsamples = 2\\nvalue = [1, 1]\\nclass = 0'),\n",
              " Text(16696.665143901322, 3775.0, 'gini = 0.0\\nsamples = 3\\nvalue = [3, 0]\\nclass = 0'),\n",
              " Text(17104.522613065325, 5572.619047619048, 'Fare <= 22.019\\ngini = 0.492\\nsamples = 16\\nvalue = [7, 9]\\nclass = 1'),\n",
              " Text(16968.57012334399, 5213.0952380952385, 'Fare <= 19.613\\ngini = 0.497\\nsamples = 13\\nvalue = [7, 6]\\nclass = 0'),\n",
              " Text(16832.617633622656, 4853.571428571428, 'SibSp <= 0.5\\ngini = 0.48\\nsamples = 10\\nvalue = [4, 6]\\nclass = 1'),\n",
              " Text(16696.665143901322, 4494.047619047619, 'gini = 0.0\\nsamples = 3\\nvalue = [3, 0]\\nclass = 0'),\n",
              " Text(16968.57012334399, 4494.047619047619, 'Fare <= 15.8\\ngini = 0.245\\nsamples = 7\\nvalue = [1, 6]\\nclass = 1'),\n",
              " Text(16832.617633622656, 4134.523809523809, 'gini = 0.0\\nsamples = 3\\nvalue = [0, 3]\\nclass = 1'),\n",
              " Text(17104.522613065325, 4134.523809523809, 'SibSp <= 1.5\\ngini = 0.375\\nsamples = 4\\nvalue = [1, 3]\\nclass = 1'),\n",
              " Text(16968.57012334399, 3775.0, 'gini = 0.444\\nsamples = 3\\nvalue = [1, 2]\\nclass = 1'),\n",
              " Text(17240.47510278666, 3775.0, 'gini = 0.0\\nsamples = 1\\nvalue = [0, 1]\\nclass = 1'),\n",
              " Text(17104.522613065325, 4853.571428571428, 'gini = 0.0\\nsamples = 3\\nvalue = [3, 0]\\nclass = 0'),\n",
              " Text(17240.47510278666, 5213.0952380952385, 'gini = 0.0\\nsamples = 3\\nvalue = [0, 3]\\nclass = 1'),\n",
              " Text(17920.23755139333, 5932.142857142857, 'Parch <= 0.5\\ngini = 0.227\\nsamples = 23\\nvalue = [20, 3]\\nclass = 0'),\n",
              " Text(17648.33257195066, 5572.619047619048, 'SibSp <= 0.5\\ngini = 0.444\\nsamples = 6\\nvalue = [4, 2]\\nclass = 0'),\n",
              " Text(17512.380082229327, 5213.0952380952385, 'Age_cat <= 3.0\\ngini = 0.375\\nsamples = 4\\nvalue = [3, 1]\\nclass = 0'),\n",
              " Text(17376.427592507993, 4853.571428571428, 'gini = 0.5\\nsamples = 2\\nvalue = [1, 1]\\nclass = 0'),\n",
              " Text(17648.33257195066, 4853.571428571428, 'gini = 0.0\\nsamples = 2\\nvalue = [2, 0]\\nclass = 0'),\n",
              " Text(17784.285061671995, 5213.0952380952385, 'gini = 0.5\\nsamples = 2\\nvalue = [1, 1]\\nclass = 0'),\n",
              " Text(18192.142530835998, 5572.619047619048, 'Parch <= 4.5\\ngini = 0.111\\nsamples = 17\\nvalue = [16, 1]\\nclass = 0'),\n",
              " Text(18056.190041114663, 5213.0952380952385, 'gini = 0.0\\nsamples = 14\\nvalue = [14, 0]\\nclass = 0'),\n",
              " Text(18328.09502055733, 5213.0952380952385, 'Fare <= 35.538\\ngini = 0.444\\nsamples = 3\\nvalue = [2, 1]\\nclass = 0'),\n",
              " Text(18192.142530835998, 4853.571428571428, 'gini = 0.0\\nsamples = 1\\nvalue = [0, 1]\\nclass = 1'),\n",
              " Text(18464.047510278666, 4853.571428571428, 'gini = 0.0\\nsamples = 2\\nvalue = [2, 0]\\nclass = 0')]"
            ]
          },
          "metadata": {},
          "execution_count": 45
        }
      ],
      "metadata": {}
    },
    {
      "cell_type": "code",
      "execution_count": null,
      "source": [
        "print(\"Hello WOrld\")"
      ],
      "outputs": [],
      "metadata": {}
    }
  ]
}